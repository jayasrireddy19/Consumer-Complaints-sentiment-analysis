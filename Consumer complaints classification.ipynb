{
 "cells": [
  {
   "cell_type": "markdown",
   "metadata": {},
   "source": [
    "Import Statements\n"
   ]
  },
  {
   "cell_type": "code",
   "execution_count": 6,
   "metadata": {},
   "outputs": [
    {
     "data": {
      "text/html": [
       "<div>\n",
       "<style scoped>\n",
       "    .dataframe tbody tr th:only-of-type {\n",
       "        vertical-align: middle;\n",
       "    }\n",
       "\n",
       "    .dataframe tbody tr th {\n",
       "        vertical-align: top;\n",
       "    }\n",
       "\n",
       "    .dataframe thead th {\n",
       "        text-align: right;\n",
       "    }\n",
       "</style>\n",
       "<table border=\"1\" class=\"dataframe\">\n",
       "  <thead>\n",
       "    <tr style=\"text-align: right;\">\n",
       "      <th></th>\n",
       "      <th>Date received</th>\n",
       "      <th>Product</th>\n",
       "      <th>Sub-product</th>\n",
       "      <th>Issue</th>\n",
       "      <th>Sub-issue</th>\n",
       "      <th>Consumer complaint narrative</th>\n",
       "      <th>Company public response</th>\n",
       "      <th>Company</th>\n",
       "      <th>State</th>\n",
       "      <th>ZIP code</th>\n",
       "      <th>Tags</th>\n",
       "      <th>Consumer consent provided?</th>\n",
       "      <th>Submitted via</th>\n",
       "      <th>Date sent to company</th>\n",
       "      <th>Company response to consumer</th>\n",
       "      <th>Timely response?</th>\n",
       "      <th>Consumer disputed?</th>\n",
       "      <th>Complaint ID</th>\n",
       "    </tr>\n",
       "  </thead>\n",
       "  <tbody>\n",
       "    <tr>\n",
       "      <th>0</th>\n",
       "      <td>10/18/2019</td>\n",
       "      <td>Credit reporting, credit repair services, or o...</td>\n",
       "      <td>Credit reporting</td>\n",
       "      <td>Incorrect information on your report</td>\n",
       "      <td>Information belongs to someone else</td>\n",
       "      <td>NaN</td>\n",
       "      <td>NaN</td>\n",
       "      <td>Westlake Services, LLC</td>\n",
       "      <td>MO</td>\n",
       "      <td>63122</td>\n",
       "      <td>NaN</td>\n",
       "      <td>NaN</td>\n",
       "      <td>Web</td>\n",
       "      <td>10/18/2019</td>\n",
       "      <td>Closed with explanation</td>\n",
       "      <td>Yes</td>\n",
       "      <td>NaN</td>\n",
       "      <td>3410477</td>\n",
       "    </tr>\n",
       "    <tr>\n",
       "      <th>1</th>\n",
       "      <td>10/18/2019</td>\n",
       "      <td>Checking or savings account</td>\n",
       "      <td>Checking account</td>\n",
       "      <td>Managing an account</td>\n",
       "      <td>Problem making or receiving payments</td>\n",
       "      <td>NaN</td>\n",
       "      <td>NaN</td>\n",
       "      <td>ALLY FINANCIAL INC.</td>\n",
       "      <td>AZ</td>\n",
       "      <td>85213</td>\n",
       "      <td>NaN</td>\n",
       "      <td>NaN</td>\n",
       "      <td>Web</td>\n",
       "      <td>10/18/2019</td>\n",
       "      <td>In progress</td>\n",
       "      <td>Yes</td>\n",
       "      <td>NaN</td>\n",
       "      <td>3409814</td>\n",
       "    </tr>\n",
       "    <tr>\n",
       "      <th>2</th>\n",
       "      <td>10/18/2019</td>\n",
       "      <td>Credit card or prepaid card</td>\n",
       "      <td>General-purpose credit card or charge card</td>\n",
       "      <td>Problem with a purchase shown on your statement</td>\n",
       "      <td>Credit card company isn't resolving a dispute ...</td>\n",
       "      <td>NaN</td>\n",
       "      <td>Company has responded to the consumer and the ...</td>\n",
       "      <td>CITIBANK, N.A.</td>\n",
       "      <td>NY</td>\n",
       "      <td>11204</td>\n",
       "      <td>NaN</td>\n",
       "      <td>Consent not provided</td>\n",
       "      <td>Web</td>\n",
       "      <td>10/18/2019</td>\n",
       "      <td>Closed with explanation</td>\n",
       "      <td>Yes</td>\n",
       "      <td>NaN</td>\n",
       "      <td>3410009</td>\n",
       "    </tr>\n",
       "    <tr>\n",
       "      <th>3</th>\n",
       "      <td>10/18/2019</td>\n",
       "      <td>Credit card or prepaid card</td>\n",
       "      <td>General-purpose credit card or charge card</td>\n",
       "      <td>Problem when making payments</td>\n",
       "      <td>Problem during payment process</td>\n",
       "      <td>NaN</td>\n",
       "      <td>NaN</td>\n",
       "      <td>NAVY FEDERAL CREDIT UNION</td>\n",
       "      <td>NaN</td>\n",
       "      <td>NaN</td>\n",
       "      <td>NaN</td>\n",
       "      <td>NaN</td>\n",
       "      <td>Referral</td>\n",
       "      <td>10/18/2019</td>\n",
       "      <td>In progress</td>\n",
       "      <td>Yes</td>\n",
       "      <td>NaN</td>\n",
       "      <td>3410507</td>\n",
       "    </tr>\n",
       "    <tr>\n",
       "      <th>4</th>\n",
       "      <td>10/18/2019</td>\n",
       "      <td>Credit card or prepaid card</td>\n",
       "      <td>General-purpose credit card or charge card</td>\n",
       "      <td>Problem with a purchase shown on your statement</td>\n",
       "      <td>Credit card company isn't resolving a dispute ...</td>\n",
       "      <td>NaN</td>\n",
       "      <td>Company has responded to the consumer and the ...</td>\n",
       "      <td>CITIBANK, N.A.</td>\n",
       "      <td>NY</td>\n",
       "      <td>11204</td>\n",
       "      <td>NaN</td>\n",
       "      <td>Consent not provided</td>\n",
       "      <td>Web</td>\n",
       "      <td>10/18/2019</td>\n",
       "      <td>Closed with explanation</td>\n",
       "      <td>Yes</td>\n",
       "      <td>NaN</td>\n",
       "      <td>3410318</td>\n",
       "    </tr>\n",
       "  </tbody>\n",
       "</table>\n",
       "</div>"
      ],
      "text/plain": [
       "  Date received                                            Product  \\\n",
       "0    10/18/2019  Credit reporting, credit repair services, or o...   \n",
       "1    10/18/2019                        Checking or savings account   \n",
       "2    10/18/2019                        Credit card or prepaid card   \n",
       "3    10/18/2019                        Credit card or prepaid card   \n",
       "4    10/18/2019                        Credit card or prepaid card   \n",
       "\n",
       "                                  Sub-product  \\\n",
       "0                            Credit reporting   \n",
       "1                            Checking account   \n",
       "2  General-purpose credit card or charge card   \n",
       "3  General-purpose credit card or charge card   \n",
       "4  General-purpose credit card or charge card   \n",
       "\n",
       "                                             Issue  \\\n",
       "0             Incorrect information on your report   \n",
       "1                              Managing an account   \n",
       "2  Problem with a purchase shown on your statement   \n",
       "3                     Problem when making payments   \n",
       "4  Problem with a purchase shown on your statement   \n",
       "\n",
       "                                           Sub-issue  \\\n",
       "0                Information belongs to someone else   \n",
       "1               Problem making or receiving payments   \n",
       "2  Credit card company isn't resolving a dispute ...   \n",
       "3                     Problem during payment process   \n",
       "4  Credit card company isn't resolving a dispute ...   \n",
       "\n",
       "  Consumer complaint narrative  \\\n",
       "0                          NaN   \n",
       "1                          NaN   \n",
       "2                          NaN   \n",
       "3                          NaN   \n",
       "4                          NaN   \n",
       "\n",
       "                             Company public response  \\\n",
       "0                                                NaN   \n",
       "1                                                NaN   \n",
       "2  Company has responded to the consumer and the ...   \n",
       "3                                                NaN   \n",
       "4  Company has responded to the consumer and the ...   \n",
       "\n",
       "                     Company State ZIP code Tags Consumer consent provided?  \\\n",
       "0     Westlake Services, LLC    MO    63122  NaN                        NaN   \n",
       "1        ALLY FINANCIAL INC.    AZ    85213  NaN                        NaN   \n",
       "2             CITIBANK, N.A.    NY    11204  NaN       Consent not provided   \n",
       "3  NAVY FEDERAL CREDIT UNION   NaN      NaN  NaN                        NaN   \n",
       "4             CITIBANK, N.A.    NY    11204  NaN       Consent not provided   \n",
       "\n",
       "  Submitted via Date sent to company Company response to consumer  \\\n",
       "0           Web           10/18/2019      Closed with explanation   \n",
       "1           Web           10/18/2019                  In progress   \n",
       "2           Web           10/18/2019      Closed with explanation   \n",
       "3      Referral           10/18/2019                  In progress   \n",
       "4           Web           10/18/2019      Closed with explanation   \n",
       "\n",
       "  Timely response? Consumer disputed?  Complaint ID  \n",
       "0              Yes                NaN       3410477  \n",
       "1              Yes                NaN       3409814  \n",
       "2              Yes                NaN       3410009  \n",
       "3              Yes                NaN       3410507  \n",
       "4              Yes                NaN       3410318  "
      ]
     },
     "execution_count": 6,
     "metadata": {},
     "output_type": "execute_result"
    }
   ],
   "source": [
    "import pandas as pd     #importing pandas to read csv file and manipulating DataFrames.\n",
    "import numpy as np  \n",
    "import nltk             #nltk is natural language processing toolkit used for various nlp techniques.\n",
    "from sklearn.model_selection import train_test_split             #used for splitting train and test data.\n",
    "from sklearn.feature_extraction.text import CountVectorizer      #To convert text into feature vectors.\n",
    "from sklearn.metrics import accuracy_score, confusion_matrix     #To get performence metrics.\n",
    "from nltk.corpus import stopwords               #To remove stopwords from the text.\n",
    "df = pd.read_csv('Consumer_Complaints.csv') #Reading csv file and converting into pandas Dataframe.\n",
    "df.head()\n"
   ]
  },
  {
   "cell_type": "code",
   "execution_count": 7,
   "metadata": {},
   "outputs": [
    {
     "data": {
      "text/plain": [
       "(1411119, 18)"
      ]
     },
     "execution_count": 7,
     "metadata": {},
     "output_type": "execute_result"
    }
   ],
   "source": [
    "df.shape"
   ]
  },
  {
   "cell_type": "markdown",
   "metadata": {},
   "source": [
    "Data Preprocessing"
   ]
  },
  {
   "cell_type": "code",
   "execution_count": 13,
   "metadata": {},
   "outputs": [
    {
     "name": "stdout",
     "output_type": "stream",
     "text": [
      "Date received                        0\n",
      "Product                              0\n",
      "Sub-product                     235160\n",
      "Issue                                0\n",
      "Sub-issue                       477597\n",
      "Consumer complaint narrative    704013\n",
      "Company public response         646002\n",
      "Company                              0\n",
      "State                             9225\n",
      "ZIP code                          9278\n",
      "Tags                            777945\n",
      "Consumer consent provided?      528549\n",
      "Submitted via                        0\n",
      "Date sent to company                 0\n",
      "Company response to consumer         0\n",
      "Timely response?                     0\n",
      "Consumer disputed?              135408\n",
      "Complaint ID                         0\n",
      "dtype: int64\n"
     ]
    }
   ],
   "source": [
    "\n",
    "from sklearn.utils import resample\n",
    "print(df.isnull().sum())                       # number of null values by each column.\n",
    "df = df[pd.notnull(df['Consumer disputed?'])]  #removing null values from consumer disputed columns.\n",
    "                          #Filling remaining null values with space so that they can be vectorized.\n",
    "#Combining multiple columns to vectorize the text data.\n",
    "df=df.fillna(\"-\")\n",
    "df['prod']=df['Submitted via']+\" \"+df['Company response to consumer']+\" \"+df['Consumer complaint narrative']+\" \"+df['Company']+\" \"+df['Product']+\" \"+df['Issue']+\" \"+df['Consumer disputed?']+\" \"+df['Consumer consent provided?']\n",
    "df['Timely response?']=df['Timely response?'].map(dict(Yes=1, No=0))     #Converting Yes and No to 1 and 0 for classification.\n",
    "df['Consumer disputed?']=df['Consumer disputed?'].map(dict(Yes=1, No=0))\n",
    "#Performing and operation on both columns to get data about good responses by the company.\n",
    "#df['Consumer disputed?']=~df['Consumer disputed?']\n",
    "#df['Timely response?']=df['Timely response?'] & df['Consumer disputed?']\n",
    "#df_majority = df[df['Timely response?']==1]\n",
    "#df_minority = df[df['Timely response?']==0]\n",
    " \n",
    "#Downsample majority class\n",
    "df_majority_downsampled = resample(df_majority, \n",
    "                                replace=False,    # sample without replacement\n",
    "                                 n_samples=400000,     # to match minority class\n",
    "                                 random_state=1234) # reproducible results\n",
    " #\n",
    "# Combine minority class with downsampled majority class\n",
    "df = pd.concat([df_majority_downsampled, df_minority])\n",
    " \n",
    "df_minority_upsampled = resample(df_minority, \n",
    "                                 replace=True,    # sample without replacement\n",
    "                                 n_samples=200000,     # to match minority class\n",
    "                                 random_state=1234) # reproducible results\n",
    " \n",
    "# Combine minority class with downsampled majority class\n",
    "df = pd.concat([df, df_minority_upsampled])\n",
    " \n"
   ]
  },
  {
   "cell_type": "markdown",
   "metadata": {},
   "source": [
    "Count of null values by each column"
   ]
  },
  {
   "cell_type": "code",
   "execution_count": 14,
   "metadata": {},
   "outputs": [
    {
     "name": "stdout",
     "output_type": "stream",
     "text": [
      "1    400000\n",
      "0    221687\n",
      "Name: Timely response?, dtype: int64\n"
     ]
    }
   ],
   "source": [
    "print(df['Timely response?'].value_counts()) #value counts of class label."
   ]
  },
  {
   "cell_type": "markdown",
   "metadata": {},
   "source": [
    "Textual data preprocessing(Stemming,Lemmatization)"
   ]
  },
  {
   "cell_type": "code",
   "execution_count": 4,
   "metadata": {},
   "outputs": [
    {
     "name": "stderr",
     "output_type": "stream",
     "text": [
      "[nltk_data] Downloading package averaged_perceptron_tagger to\n",
      "[nltk_data]     C:\\Users\\Administrator\\AppData\\Roaming\\nltk_data...\n",
      "[nltk_data]   Package averaged_perceptron_tagger is already up-to-\n",
      "[nltk_data]       date!\n",
      "Warming up PyWSD (takes ~10 secs)... "
     ]
    },
    {
     "name": "stdout",
     "output_type": "stream",
     "text": [
      "900984    Web Closed with monetary relief - VW Credit Co...\n",
      "153385    Web Closed with explanation - EQUIFAX, INC. Cr...\n",
      "526879    Referral Closed with explanation - CITIBANK, N...\n",
      "608882    Referral Closed with explanation - OCWEN LOAN ...\n",
      "581020    Web Closed with explanation - OCWEN LOAN SERVI...\n",
      "Name: prod, dtype: object\n"
     ]
    },
    {
     "name": "stderr",
     "output_type": "stream",
     "text": [
      "took 3.8232498168945312 secs.\n"
     ]
    }
   ],
   "source": [
    "import nltk\n",
    "nltk.download('averaged_perceptron_tagger')\n",
    "from nltk.stem import WordNetLemmatizer    #Importing WordNetLemmatizer,PorterStemmer to perform lemmatization.\n",
    "from nltk.stem import PorterStemmer \n",
    "from pywsd.utils import lemmatize_sentence\n",
    "lemmatizer = WordNetLemmatizer() \n",
    "ps = PorterStemmer() \n",
    "for i,j in df['prod'].head().iteritems():         #Stemming and lemmatizing each word in the data frame \n",
    "  \n",
    "  j=ps.stem(j)\n",
    "  j=lemmatize_sentence(j)\n",
    "print(df['prod'].head())                   #printing sample data after Stemming and Lemmatization."
   ]
  },
  {
   "cell_type": "markdown",
   "metadata": {},
   "source": [
    "Cross Validation"
   ]
  },
  {
   "cell_type": "code",
   "execution_count": null,
   "metadata": {},
   "outputs": [
    {
     "name": "stderr",
     "output_type": "stream",
     "text": [
      "D:\\AI\\lib\\site-packages\\sklearn\\linear_model\\logistic.py:433: FutureWarning: Default solver will be changed to 'lbfgs' in 0.22. Specify a solver to silence this warning.\n",
      "  FutureWarning)\n"
     ]
    }
   ],
   "source": [
    "#train, validate, test = np.split(df.sample(frac=1), [int(.6*len(df)), int(.8*len(df))])\n",
    "#a1=train['prod']\n",
    "#a2=train['Timely response?']\n",
    "#a3=validate['prod']\n",
    "#a4=validate['Timely response?']\n",
    "#a5=validate['prod']\n",
    "#a6=validate['Timely response?']\n",
    "#xTrain, xTest, yTrain, yTest = train_test_split(X, y, test_size = 0.2, random_state = 0)\n",
    "#K-Fold cross validation.\n",
    "cvec=CountVectorizer().fit(df['prod'])      #Converting the preprocessed text to count vectors.\n",
    "df_train=cvec.transform(df['prod'])                             \n",
    "df_test=df['Timely response?']                                  \n",
    "X=df_train\n",
    "y=df_test                                                       # Y label\n",
    "from sklearn.linear_model import LogisticRegression              \n",
    "scores = []\n",
    "clf = LogisticRegression()\n",
    "from sklearn.model_selection import cross_val_predict\n",
    "cross_val_predict(clf, X, y, cv=10)                              #performing K-Fold cross validation with K=10;"
   ]
  },
  {
   "cell_type": "markdown",
   "metadata": {},
   "source": [
    "Cross Validation scores"
   ]
  },
  {
   "cell_type": "code",
   "execution_count": 6,
   "metadata": {},
   "outputs": [
    {
     "name": "stderr",
     "output_type": "stream",
     "text": [
      "D:\\AI\\lib\\site-packages\\sklearn\\linear_model\\logistic.py:433: FutureWarning: Default solver will be changed to 'lbfgs' in 0.22. Specify a solver to silence this warning.\n",
      "  FutureWarning)\n",
      "D:\\AI\\lib\\site-packages\\sklearn\\svm\\base.py:922: ConvergenceWarning: Liblinear failed to converge, increase the number of iterations.\n",
      "  \"the number of iterations.\", ConvergenceWarning)\n"
     ]
    },
    {
     "data": {
      "text/plain": [
       "array([0.80694267, 0.80668245, 0.80722892, 0.80713784, 0.80795753,\n",
       "       0.80725494, 0.80754118, 0.80839741, 0.80723691, 0.80654731])"
      ]
     },
     "execution_count": 6,
     "metadata": {},
     "output_type": "execute_result"
    }
   ],
   "source": [
    "from sklearn.model_selection import cross_val_score\n",
    "cross_val_score(clf, X, y, cv=10)                       # Scores of all the 10 splits in K-Fold cross validation."
   ]
  },
  {
   "cell_type": "markdown",
   "metadata": {},
   "source": [
    "Vectorization and splitting data"
   ]
  },
  {
   "cell_type": "code",
   "execution_count": 5,
   "metadata": {},
   "outputs": [],
   "source": [
    "#performing test train split and implementing various classifier to see best algorithm for the dataset.\n",
    "from sklearn.feature_extraction import text \n",
    "my_additional_stop_words=[\"XXXX\",\"XX\",\"N/A\",\"Closed with explanation\",\"-\"]\n",
    "stop_words = text.ENGLISH_STOP_WORDS.union(my_additional_stop_words)\n",
    "cvec=CountVectorizer()\n",
    "X=df['prod']\n",
    "y=df['Timely response?']\n",
    "xTrain, xTest, yTrain, yTest = train_test_split(X, y, test_size = 0.2, random_state = 212)#Splitting train and test with 0.2 test size.\n",
    "cvec=CountVectorizer(stop_words='english').fit(xTrain)\n",
    "df_train=cvec.transform(xTrain)#Transform train text data into Count vectors.\n",
    "df_test=cvec.transform(xTest) #Transform test text data into Count vectors."
   ]
  },
  {
   "cell_type": "markdown",
   "metadata": {},
   "source": [
    "Logistic Regression Model"
   ]
  },
  {
   "cell_type": "code",
   "execution_count": 21,
   "metadata": {},
   "outputs": [
    {
     "name": "stderr",
     "output_type": "stream",
     "text": [
      "D:\\AI\\lib\\site-packages\\sklearn\\linear_model\\logistic.py:433: FutureWarning: Default solver will be changed to 'lbfgs' in 0.22. Specify a solver to silence this warning.\n",
      "  FutureWarning)\n",
      "D:\\AI\\lib\\site-packages\\sklearn\\svm\\base.py:922: ConvergenceWarning: Liblinear failed to converge, increase the number of iterations.\n",
      "  \"the number of iterations.\", ConvergenceWarning)\n"
     ]
    },
    {
     "name": "stdout",
     "output_type": "stream",
     "text": [
      "Train Accuracy 0.8559924720870054\n",
      "Test Accuracy 0.8518393411507343\n",
      "Classification metrics:\n",
      "              precision    recall  f1-score   support\n",
      "\n",
      "           0       0.82      0.74      0.78     44162\n",
      "           1       0.87      0.91      0.89     80176\n",
      "\n",
      "   micro avg       0.85      0.85      0.85    124338\n",
      "   macro avg       0.84      0.83      0.83    124338\n",
      "weighted avg       0.85      0.85      0.85    124338\n",
      "\n",
      "[[32754 11408]\n",
      " [ 7014 73162]]\n"
     ]
    }
   ],
   "source": [
    "from sklearn.linear_model import LogisticRegression #importing Logistic regression model.\n",
    "clf = LogisticRegression()                              \n",
    "clf.fit(df_train,yTrain)                            #Fitting the training data\n",
    "ypred=clf.predict(df_test)                          #Predicting the test data\n",
    "from sklearn.metrics import accuracy_score, confusion_matrix  #Importing metrics\n",
    "ypredtrain=clf.predict(df_train)                    #Predicting the train data\n",
    "print(\"Train Accuracy\",accuracy_score(yTrain,ypredtrain))  \n",
    "print(\"Test Accuracy\",accuracy_score(yTest,ypred))\n",
    "from sklearn.metrics import classification_report \n",
    "report = classification_report(yTest,ypred)         #Classification report\n",
    "print(\"Classification metrics:\")\n",
    "print(report)\n",
    "print(confusion_matrix(yTest,ypred))"
   ]
  },
  {
   "cell_type": "code",
   "execution_count": 22,
   "metadata": {},
   "outputs": [
    {
     "data": {
      "image/png": "[encoded data removed]",
      "text/plain": [
       "<Figure size 432x288 with 1 Axes>"
      ]
     },
     "metadata": {
      "needs_background": "light"
     },
     "output_type": "display_data"
    }
   ],
   "source": [
    "import sklearn.metrics as metrics\n",
    "# calculate the fpr and tpr for all thresholds of the classification\n",
    "#probs = model.predict_proba(X_test)\n",
    "preds = ypred\n",
    "fpr, tpr, threshold = metrics.roc_curve(yTest, preds)\n",
    "roc_auc = metrics.auc(fpr, tpr)\n",
    "\n",
    "# method I: plt\n",
    "import matplotlib.pyplot as plt\n",
    "plt.title('Receiver Operating Characteristic')\n",
    "plt.plot(fpr, tpr, 'b', label = 'AUC = %0.2f' % roc_auc)\n",
    "plt.legend(loc = 'lower right')\n",
    "plt.plot([0, 1], [0, 1],'r--')\n",
    "plt.xlim([0, 1])\n",
    "plt.ylim([0, 1])\n",
    "plt.ylabel('True Positive Rate')\n",
    "plt.xlabel('False Positive Rate')\n",
    "plt.show()"
   ]
  },
  {
   "cell_type": "markdown",
   "metadata": {},
   "source": [
    "Mutinomial Naive Bayes Model"
   ]
  },
  {
   "cell_type": "code",
   "execution_count": 15,
   "metadata": {},
   "outputs": [
    {
     "name": "stdout",
     "output_type": "stream",
     "text": [
      "Train Accuracy 0.780884248284404\n",
      "Test Accuracy 0.7789171452009844\n",
      "Classification metrics:\n",
      "              precision    recall  f1-score   support\n",
      "\n",
      "           0       0.70      0.66      0.68     44162\n",
      "           1       0.82      0.84      0.83     80176\n",
      "\n",
      "   micro avg       0.78      0.78      0.78    124338\n",
      "   macro avg       0.76      0.75      0.76    124338\n",
      "weighted avg       0.78      0.78      0.78    124338\n",
      "\n",
      "[[29353 14809]\n",
      " [12680 67496]]\n"
     ]
    }
   ],
   "source": [
    "from sklearn.naive_bayes import MultinomialNB\n",
    "clf = MultinomialNB()\n",
    "clf.fit(df_train,yTrain)                                        \n",
    "ypred=clf.predict(df_test)\n",
    "from sklearn.metrics import accuracy_score, confusion_matrix\n",
    "ypredtrain=clf.predict(df_train)\n",
    "print(\"Train Accuracy\",accuracy_score(yTrain,ypredtrain))\n",
    "print(\"Test Accuracy\",accuracy_score(yTest,ypred))\n",
    "from sklearn.metrics import classification_report\n",
    "report = classification_report(yTest,ypred)\n",
    "print(\"Classification metrics:\")\n",
    "print(report)\n",
    "print(confusion_matrix(yTest,ypred))"
   ]
  },
  {
   "cell_type": "code",
   "execution_count": 16,
   "metadata": {},
   "outputs": [
    {
     "data": {
      "image/png": "[encoded data removed]",
      "text/plain": [
       "<Figure size 432x288 with 1 Axes>"
      ]
     },
     "metadata": {
      "needs_background": "light"
     },
     "output_type": "display_data"
    }
   ],
   "source": [
    "import sklearn.metrics as metrics\n",
    "# calculate the fpr and tpr for all thresholds of the classification\n",
    "#probs = model.predict_proba(X_test)\n",
    "preds = ypred\n",
    "fpr, tpr, threshold = metrics.roc_curve(yTest, preds)\n",
    "roc_auc = metrics.auc(fpr, tpr)\n",
    "\n",
    "# method I: plt\n",
    "import matplotlib.pyplot as plt\n",
    "plt.title('Receiver Operating Characteristic')\n",
    "plt.plot(fpr, tpr, 'b', label = 'AUC = %0.2f' % roc_auc)\n",
    "plt.legend(loc = 'lower right')\n",
    "plt.plot([0, 1], [0, 1],'r--')\n",
    "plt.xlim([0, 1])\n",
    "plt.ylim([0, 1])\n",
    "plt.ylabel('True Positive Rate')\n",
    "plt.xlabel('False Positive Rate')\n",
    "plt.show()"
   ]
  },
  {
   "cell_type": "markdown",
   "metadata": {},
   "source": [
    "AdaBoost Classifier"
   ]
  },
  {
   "cell_type": "code",
   "execution_count": 17,
   "metadata": {},
   "outputs": [
    {
     "name": "stdout",
     "output_type": "stream",
     "text": [
      "Train Accuracy 0.7691681294221965\n",
      "Test Accuracy 0.7702391867329377\n",
      "Classification metrics:\n",
      "              precision    recall  f1-score   support\n",
      "\n",
      "           0       0.71      0.60      0.65     44162\n",
      "           1       0.80      0.86      0.83     80176\n",
      "\n",
      "   micro avg       0.77      0.77      0.77    124338\n",
      "   macro avg       0.75      0.73      0.74    124338\n",
      "weighted avg       0.77      0.77      0.77    124338\n",
      "\n",
      "[[26493 17669]\n",
      " [10899 69277]]\n"
     ]
    }
   ],
   "source": [
    "from sklearn.ensemble import AdaBoostClassifier\n",
    "clf = AdaBoostClassifier()\n",
    "clf.fit(df_train,yTrain)\n",
    "ypred=clf.predict(df_test)\n",
    "from sklearn.metrics import accuracy_score, confusion_matrix\n",
    "ypredtrain=clf.predict(df_train)\n",
    "print(\"Train Accuracy\",accuracy_score(yTrain,ypredtrain))\n",
    "print(\"Test Accuracy\",accuracy_score(yTest,ypred))\n",
    "from sklearn.metrics import classification_report\n",
    "report = classification_report(yTest,ypred)\n",
    "print(\"Classification metrics:\")\n",
    "print(report)\n",
    "print(confusion_matrix(yTest,ypred))"
   ]
  },
  {
   "cell_type": "code",
   "execution_count": 18,
   "metadata": {},
   "outputs": [
    {
     "data": {
      "image/png": "[encoded data removed]",
      "text/plain": [
       "<Figure size 432x288 with 1 Axes>"
      ]
     },
     "metadata": {
      "needs_background": "light"
     },
     "output_type": "display_data"
    }
   ],
   "source": [
    "import sklearn.metrics as metrics\n",
    "# calculate the fpr and tpr for all thresholds of the classification\n",
    "#probs = model.predict_proba(X_test)\n",
    "preds = ypred\n",
    "fpr, tpr, threshold = metrics.roc_curve(yTest, preds)\n",
    "roc_auc = metrics.auc(fpr, tpr)\n",
    "\n",
    "# method I: plt\n",
    "import matplotlib.pyplot as plt\n",
    "plt.title('Receiver Operating Characteristic')\n",
    "plt.plot(fpr, tpr, 'b', label = 'AUC = %0.2f' % roc_auc)\n",
    "plt.legend(loc = 'lower right')\n",
    "plt.plot([0, 1], [0, 1],'r--')\n",
    "plt.xlim([0, 1])\n",
    "plt.ylim([0, 1])\n",
    "plt.ylabel('True Positive Rate')\n",
    "plt.xlabel('False Positive Rate')\n",
    "plt.show()"
   ]
  },
  {
   "cell_type": "markdown",
   "metadata": {},
   "source": [
    "Gradient Boosting Classifier"
   ]
  },
  {
   "cell_type": "code",
   "execution_count": 19,
   "metadata": {},
   "outputs": [
    {
     "name": "stdout",
     "output_type": "stream",
     "text": [
      "Train Accuracy 0.7802609435225566\n",
      "Test Accuracy 0.7824719715613891\n",
      "Classification metrics:\n",
      "              precision    recall  f1-score   support\n",
      "\n",
      "           0       0.76      0.57      0.65     44162\n",
      "           1       0.79      0.90      0.84     80176\n",
      "\n",
      "   micro avg       0.78      0.78      0.78    124338\n",
      "   macro avg       0.77      0.73      0.75    124338\n",
      "weighted avg       0.78      0.78      0.77    124338\n",
      "\n",
      "[[25207 18955]\n",
      " [ 8092 72084]]\n"
     ]
    }
   ],
   "source": [
    "from sklearn.ensemble import GradientBoostingClassifier\n",
    "clf = GradientBoostingClassifier()\n",
    "clf.fit(df_train,yTrain)\n",
    "ypred=clf.predict(df_test)\n",
    "from sklearn.metrics import accuracy_score, confusion_matrix\n",
    "ypredtrain=clf.predict(df_train)\n",
    "print(\"Train Accuracy\",accuracy_score(yTrain,ypredtrain))\n",
    "print(\"Test Accuracy\",accuracy_score(yTest,ypred))\n",
    "from sklearn.metrics import classification_report\n",
    "report = classification_report(yTest,ypred)\n",
    "print(\"Classification metrics:\")\n",
    "print(report)\n",
    "print(confusion_matrix(yTest,ypred))"
   ]
  },
  {
   "cell_type": "code",
   "execution_count": 20,
   "metadata": {},
   "outputs": [
    {
     "data": {
      "image/png": "[encoded data removed]",
      "text/plain": [
       "<Figure size 432x288 with 1 Axes>"
      ]
     },
     "metadata": {
      "needs_background": "light"
     },
     "output_type": "display_data"
    }
   ],
   "source": [
    "import sklearn.metrics as metrics\n",
    "# calculate the fpr and tpr for all thresholds of the classification\n",
    "#probs = model.predict_proba(X_test)\n",
    "preds = ypred\n",
    "fpr, tpr, threshold = metrics.roc_curve(yTest, preds)\n",
    "roc_auc = metrics.auc(fpr, tpr)\n",
    "\n",
    "# method I: plt\n",
    "import matplotlib.pyplot as plt\n",
    "plt.title('Receiver Operating Characteristic')\n",
    "plt.plot(fpr, tpr, 'b', label = 'AUC = %0.2f' % roc_auc)\n",
    "plt.legend(loc = 'lower right')\n",
    "plt.plot([0, 1], [0, 1],'r--')\n",
    "plt.xlim([0, 1])\n",
    "plt.ylim([0, 1])\n",
    "plt.ylabel('True Positive Rate')\n",
    "plt.xlabel('False Positive Rate')\n",
    "plt.show()"
   ]
  }
 ],
 "metadata": {
  "kernelspec": {
   "display_name": "Python 3",
   "language": "python",
   "name": "python3"
  },
  "language_info": {
   "codemirror_mode": {
    "name": "ipython",
    "version": 3
   },
   "file_extension": ".py",
   "mimetype": "text/x-python",
   "name": "python",
   "nbconvert_exporter": "python",
   "pygments_lexer": "ipython3",
   "version": "3.8.5"
  }
 },
 "nbformat": 4,
 "nbformat_minor": 2
}
