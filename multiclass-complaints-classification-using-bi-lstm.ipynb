{
 "cells": [
  {
   "cell_type": "markdown",
   "metadata": {
    "papermill": {
     "duration": 0.031996,
     "end_time": "2021-09-05T10:43:18.354142",
     "exception": false,
     "start_time": "2021-09-05T10:43:18.322146",
     "status": "completed"
    },
    "tags": []
   },
   "source": [
    "## <u>Introduction</u>\n",
    "\n",
    "The dataframe consists of <b>162421</b> complaints for <b>5 products</b>. The dataframe is considerably <b>imbalanced</b>. \n",
    "\n",
    "The notebook implements <b>Bi-LSTM</b> model for <b>multiclass</b> classification of product complaints. Based on the provided <b>complaints</b>, the goal of the notebook is to accurately <b>identify the product</b>.    "
   ]
  },
  {
   "cell_type": "markdown",
   "metadata": {
    "papermill": {
     "duration": 0.030589,
     "end_time": "2021-09-05T10:43:18.415583",
     "exception": false,
     "start_time": "2021-09-05T10:43:18.384994",
     "status": "completed"
    },
    "tags": []
   },
   "source": [
    "## <u>Table of Contents</u>\n",
    "*  [1. Reading and Analyzing Dataframe](#1)\n",
    "*  [2. Train-Test Splitting](#2)\n",
    "*  [3. Random Oversampling](#3)\n",
    "*  [4. Text Preprocessing](#4)\n",
    "*  [5. Label Encoding](#5)\n",
    "*  [6. Tokenizing Sentences and Fixing Sentence Length](#6)\n",
    "*  [7. Bi-LSTM Model](#7)\n",
    "*  [8. Model Evaluation](#8)\n",
    "*  [9. References](#9)"
   ]
  },
  {
   "cell_type": "markdown",
   "metadata": {
    "id": "worst-charlotte",
    "papermill": {
     "duration": 0.030629,
     "end_time": "2021-09-05T10:43:18.478175",
     "exception": false,
     "start_time": "2021-09-05T10:43:18.447546",
     "status": "completed"
    },
    "tags": []
   },
   "source": [
    "# Libraries"
   ]
  },
  {
   "cell_type": "code",
   "execution_count": 3,
   "metadata": {
    "execution": {
     "iopub.execute_input": "2021-09-05T10:43:18.550798Z",
     "iopub.status.busy": "2021-09-05T10:43:18.550303Z",
     "iopub.status.idle": "2021-09-05T10:43:23.840465Z",
     "shell.execute_reply": "2021-09-05T10:43:23.839570Z",
     "shell.execute_reply.started": "2021-09-05T10:17:36.130063Z"
    },
    "id": "A9VsJVnuaACm",
    "outputId": "30d3a9ed-86c4-426e-a320-84a4da0ec376",
    "papermill": {
     "duration": 5.331701,
     "end_time": "2021-09-05T10:43:23.840624",
     "exception": false,
     "start_time": "2021-09-05T10:43:18.508923",
     "status": "completed"
    },
    "tags": []
   },
   "outputs": [
    {
     "data": {
      "text/plain": [
       "''"
      ]
     },
     "execution_count": 3,
     "metadata": {},
     "output_type": "execute_result"
    }
   ],
   "source": [
    "import pandas as pd\n",
    "import re\n",
    "import matplotlib.pyplot as plt\n",
    "import tensorflow as tf\n",
    "\n",
    "from tensorflow.python.client import device_lib\n",
    "tf.test.gpu_device_name()"
   ]
  },
  {
   "cell_type": "markdown",
   "metadata": {
    "id": "dominant-bible",
    "papermill": {
     "duration": 0.032025,
     "end_time": "2021-09-05T10:43:23.904378",
     "exception": false,
     "start_time": "2021-09-05T10:43:23.872353",
     "status": "completed"
    },
    "tags": []
   },
   "source": [
    "# 1. Reading and Analysing DataFrame"
   ]
  },
  {
   "cell_type": "code",
   "execution_count": 4,
   "metadata": {
    "execution": {
     "iopub.execute_input": "2021-09-05T10:43:23.970809Z",
     "iopub.status.busy": "2021-09-05T10:43:23.970274Z",
     "iopub.status.idle": "2021-09-05T10:43:25.836225Z",
     "shell.execute_reply": "2021-09-05T10:43:25.836926Z",
     "shell.execute_reply.started": "2021-09-05T10:17:43.956247Z"
    },
    "id": "_t2QAwXNRj6q",
    "outputId": "db0e95ab-d7d5-4119-d103-5094363d0e68",
    "papermill": {
     "duration": 1.901557,
     "end_time": "2021-09-05T10:43:25.837099",
     "exception": false,
     "start_time": "2021-09-05T10:43:23.935542",
     "status": "completed"
    },
    "tags": []
   },
   "outputs": [
    {
     "data": {
      "text/html": [
       "<div>\n",
       "<style scoped>\n",
       "    .dataframe tbody tr th:only-of-type {\n",
       "        vertical-align: middle;\n",
       "    }\n",
       "\n",
       "    .dataframe tbody tr th {\n",
       "        vertical-align: top;\n",
       "    }\n",
       "\n",
       "    .dataframe thead th {\n",
       "        text-align: right;\n",
       "    }\n",
       "</style>\n",
       "<table border=\"1\" class=\"dataframe\">\n",
       "  <thead>\n",
       "    <tr style=\"text-align: right;\">\n",
       "      <th></th>\n",
       "      <th>Unnamed: 0</th>\n",
       "      <th>product</th>\n",
       "      <th>narrative</th>\n",
       "    </tr>\n",
       "  </thead>\n",
       "  <tbody>\n",
       "    <tr>\n",
       "      <th>0</th>\n",
       "      <td>0</td>\n",
       "      <td>credit_card</td>\n",
       "      <td>purchase order day shipping amount receive pro...</td>\n",
       "    </tr>\n",
       "    <tr>\n",
       "      <th>1</th>\n",
       "      <td>1</td>\n",
       "      <td>credit_card</td>\n",
       "      <td>forwarded message date tue subject please inve...</td>\n",
       "    </tr>\n",
       "    <tr>\n",
       "      <th>2</th>\n",
       "      <td>2</td>\n",
       "      <td>retail_banking</td>\n",
       "      <td>forwarded message cc sent friday pdt subject f...</td>\n",
       "    </tr>\n",
       "    <tr>\n",
       "      <th>3</th>\n",
       "      <td>3</td>\n",
       "      <td>credit_reporting</td>\n",
       "      <td>payment history missing credit report speciali...</td>\n",
       "    </tr>\n",
       "    <tr>\n",
       "      <th>4</th>\n",
       "      <td>4</td>\n",
       "      <td>credit_reporting</td>\n",
       "      <td>payment history missing credit report made mis...</td>\n",
       "    </tr>\n",
       "  </tbody>\n",
       "</table>\n",
       "</div>"
      ],
      "text/plain": [
       "   Unnamed: 0           product  \\\n",
       "0           0       credit_card   \n",
       "1           1       credit_card   \n",
       "2           2    retail_banking   \n",
       "3           3  credit_reporting   \n",
       "4           4  credit_reporting   \n",
       "\n",
       "                                           narrative  \n",
       "0  purchase order day shipping amount receive pro...  \n",
       "1  forwarded message date tue subject please inve...  \n",
       "2  forwarded message cc sent friday pdt subject f...  \n",
       "3  payment history missing credit report speciali...  \n",
       "4  payment history missing credit report made mis...  "
      ]
     },
     "execution_count": 4,
     "metadata": {},
     "output_type": "execute_result"
    }
   ],
   "source": [
    "# Reading dataframe\n",
    "df = pd.read_csv('C:/Users/Saicharitha/Desktop/7th SEM/NLP/complaints_processed.csv')\n",
    "df.head()"
   ]
  },
  {
   "cell_type": "code",
   "execution_count": 5,
   "metadata": {
    "execution": {
     "iopub.execute_input": "2021-09-05T10:43:25.905916Z",
     "iopub.status.busy": "2021-09-05T10:43:25.905105Z",
     "iopub.status.idle": "2021-09-05T10:43:25.921044Z",
     "shell.execute_reply": "2021-09-05T10:43:25.920649Z",
     "shell.execute_reply.started": "2021-09-05T10:17:45.814913Z"
    },
    "id": "mechanical-baseline",
    "outputId": "5e688e57-f823-4dd7-85ca-5ccab76031c4",
    "papermill": {
     "duration": 0.052019,
     "end_time": "2021-09-05T10:43:25.921175",
     "exception": false,
     "start_time": "2021-09-05T10:43:25.869156",
     "status": "completed"
    },
    "tags": []
   },
   "outputs": [
    {
     "data": {
      "text/html": [
       "<div>\n",
       "<style scoped>\n",
       "    .dataframe tbody tr th:only-of-type {\n",
       "        vertical-align: middle;\n",
       "    }\n",
       "\n",
       "    .dataframe tbody tr th {\n",
       "        vertical-align: top;\n",
       "    }\n",
       "\n",
       "    .dataframe thead th {\n",
       "        text-align: right;\n",
       "    }\n",
       "</style>\n",
       "<table border=\"1\" class=\"dataframe\">\n",
       "  <thead>\n",
       "    <tr style=\"text-align: right;\">\n",
       "      <th></th>\n",
       "      <th>product</th>\n",
       "      <th>tweet</th>\n",
       "    </tr>\n",
       "  </thead>\n",
       "  <tbody>\n",
       "    <tr>\n",
       "      <th>0</th>\n",
       "      <td>credit_card</td>\n",
       "      <td>purchase order day shipping amount receive pro...</td>\n",
       "    </tr>\n",
       "    <tr>\n",
       "      <th>1</th>\n",
       "      <td>credit_card</td>\n",
       "      <td>forwarded message date tue subject please inve...</td>\n",
       "    </tr>\n",
       "    <tr>\n",
       "      <th>2</th>\n",
       "      <td>retail_banking</td>\n",
       "      <td>forwarded message cc sent friday pdt subject f...</td>\n",
       "    </tr>\n",
       "    <tr>\n",
       "      <th>3</th>\n",
       "      <td>credit_reporting</td>\n",
       "      <td>payment history missing credit report speciali...</td>\n",
       "    </tr>\n",
       "    <tr>\n",
       "      <th>4</th>\n",
       "      <td>credit_reporting</td>\n",
       "      <td>payment history missing credit report made mis...</td>\n",
       "    </tr>\n",
       "  </tbody>\n",
       "</table>\n",
       "</div>"
      ],
      "text/plain": [
       "            product                                              tweet\n",
       "0       credit_card  purchase order day shipping amount receive pro...\n",
       "1       credit_card  forwarded message date tue subject please inve...\n",
       "2    retail_banking  forwarded message cc sent friday pdt subject f...\n",
       "3  credit_reporting  payment history missing credit report speciali...\n",
       "4  credit_reporting  payment history missing credit report made mis..."
      ]
     },
     "execution_count": 5,
     "metadata": {},
     "output_type": "execute_result"
    }
   ],
   "source": [
    "# Renaming columns \n",
    "df = df.rename(columns={'narrative':'tweet' })\n",
    "\n",
    "# Removing SNo column\n",
    "df.drop(['Unnamed: 0'], axis=1, inplace=True)\n",
    "df.head()"
   ]
  },
  {
   "cell_type": "code",
   "execution_count": 6,
   "metadata": {
    "execution": {
     "iopub.execute_input": "2021-09-05T10:43:26.038822Z",
     "iopub.status.busy": "2021-09-05T10:43:26.038159Z",
     "iopub.status.idle": "2021-09-05T10:43:26.042005Z",
     "shell.execute_reply": "2021-09-05T10:43:26.042432Z",
     "shell.execute_reply.started": "2021-09-05T10:17:45.842267Z"
    },
    "id": "referenced-recipe",
    "outputId": "4ea1ecd2-5af3-4d95-badc-ff8ce09c4590",
    "papermill": {
     "duration": 0.089184,
     "end_time": "2021-09-05T10:43:26.042583",
     "exception": false,
     "start_time": "2021-09-05T10:43:25.953399",
     "status": "completed"
    },
    "tags": []
   },
   "outputs": [
    {
     "name": "stdout",
     "output_type": "stream",
     "text": [
      "* Size of dataframe: (162421, 2)\n",
      "\n",
      "* Datatype of columns are:\n",
      " product    object\n",
      "tweet      object\n",
      "dtype: object\n",
      "\n",
      "* Count of different product categories:\n",
      " credit_reporting       91179\n",
      "debt_collection        23150\n",
      "mortgages_and_loans    18990\n",
      "credit_card            15566\n",
      "retail_banking         13536\n",
      "Name: product, dtype: int64\n",
      "\n",
      "* Number of NaNs among tweets are: 10\n",
      "\n"
     ]
    }
   ],
   "source": [
    "# Analysing dataframe attributes \n",
    "print('* Size of dataframe: {}\\n'.format(df.shape))\n",
    "print('* Datatype of columns are:\\n {}\\n'.format(df.dtypes))\n",
    "print('* Count of different product categories:\\n {}\\n'.format(df['product'].value_counts()))\n",
    "print('* Number of NaNs among tweets are: {}\\n'.format(df['tweet'].isnull().sum())) "
   ]
  },
  {
   "cell_type": "code",
   "execution_count": 7,
   "metadata": {
    "execution": {
     "iopub.execute_input": "2021-09-05T10:43:26.111845Z",
     "iopub.status.busy": "2021-09-05T10:43:26.111137Z",
     "iopub.status.idle": "2021-09-05T10:43:26.167595Z",
     "shell.execute_reply": "2021-09-05T10:43:26.168453Z",
     "shell.execute_reply.started": "2021-09-05T10:17:45.903372Z"
    },
    "id": "acknowledged-madrid",
    "outputId": "dae5ef6f-f21e-47d6-baca-27450d4ca8ba",
    "papermill": {
     "duration": 0.093647,
     "end_time": "2021-09-05T10:43:26.168639",
     "exception": false,
     "start_time": "2021-09-05T10:43:26.074992",
     "status": "completed"
    },
    "tags": []
   },
   "outputs": [
    {
     "name": "stdout",
     "output_type": "stream",
     "text": [
      "NaNs are removed from the dataframe. Number of NaNs can be confirmed to be 0. The size of dataframe has reduced to (162411, 2)\n"
     ]
    }
   ],
   "source": [
    "# Removing NaNs\n",
    "df = df.dropna(subset=['tweet'])\n",
    "print('NaNs are removed from the dataframe. Number of NaNs can be confirmed to be {}. The size of dataframe has reduced to {}'.format(df['tweet'].isnull().sum(), df.shape))"
   ]
  },
  {
   "cell_type": "code",
   "execution_count": 8,
   "metadata": {
    "execution": {
     "iopub.execute_input": "2021-09-05T10:43:26.282888Z",
     "iopub.status.busy": "2021-09-05T10:43:26.257695Z",
     "iopub.status.idle": "2021-09-05T10:43:26.530495Z",
     "shell.execute_reply": "2021-09-05T10:43:26.531103Z",
     "shell.execute_reply.started": "2021-09-05T10:17:45.970045Z"
    },
    "id": "numerous-consciousness",
    "outputId": "5af16dc8-8829-4225-8711-7e61b2dde457",
    "papermill": {
     "duration": 0.329367,
     "end_time": "2021-09-05T10:43:26.531287",
     "exception": false,
     "start_time": "2021-09-05T10:43:26.201920",
     "status": "completed"
    },
    "tags": []
   },
   "outputs": [
    {
     "data": {
      "text/plain": [
       "[<matplotlib.lines.Line2D at 0x27450d36640>]"
      ]
     },
     "execution_count": 8,
     "metadata": {},
     "output_type": "execute_result"
    },
    {
     "data": {
      "image/png": "[encoded data removed]",
      "text/plain": [
       "<Figure size 432x288 with 1 Axes>"
      ]
     },
     "metadata": {
      "needs_background": "light"
     },
     "output_type": "display_data"
    }
   ],
   "source": [
    "# Plotting word lenghts of tweets\n",
    "word_length = [len(x) for x in df['tweet']]\n",
    "plt.plot(word_length)"
   ]
  },
  {
   "cell_type": "code",
   "execution_count": 9,
   "metadata": {
    "execution": {
     "iopub.execute_input": "2021-09-05T10:43:26.611840Z",
     "iopub.status.busy": "2021-09-05T10:43:26.611005Z",
     "iopub.status.idle": "2021-09-05T10:43:26.617686Z",
     "shell.execute_reply": "2021-09-05T10:43:26.617284Z",
     "shell.execute_reply.started": "2021-09-05T10:17:46.340633Z"
    },
    "id": "anticipated-inclusion",
    "papermill": {
     "duration": 0.05197,
     "end_time": "2021-09-05T10:43:26.617798",
     "exception": false,
     "start_time": "2021-09-05T10:43:26.565828",
     "status": "completed"
    },
    "tags": []
   },
   "outputs": [],
   "source": [
    "# Converting sentences to string\n",
    "df['tweet'] = df['tweet'].astype(str)"
   ]
  },
  {
   "cell_type": "code",
   "execution_count": 10,
   "metadata": {
    "execution": {
     "iopub.execute_input": "2021-09-05T10:43:26.720838Z",
     "iopub.status.busy": "2021-09-05T10:43:26.717505Z",
     "iopub.status.idle": "2021-09-05T10:43:26.723802Z",
     "shell.execute_reply": "2021-09-05T10:43:26.723407Z",
     "shell.execute_reply.started": "2021-09-05T10:17:46.364244Z"
    },
    "id": "chinese-shape",
    "outputId": "8b20bed8-299b-4595-bd5d-54a91042f931",
    "papermill": {
     "duration": 0.07241,
     "end_time": "2021-09-05T10:43:26.723907",
     "exception": false,
     "start_time": "2021-09-05T10:43:26.651497",
     "status": "completed"
    },
    "scrolled": true,
    "tags": []
   },
   "outputs": [
    {
     "data": {
      "text/plain": [
       "credit_reporting       91172\n",
       "debt_collection        23148\n",
       "mortgages_and_loans    18990\n",
       "credit_card            15566\n",
       "retail_banking         13535\n",
       "Name: product, dtype: int64"
      ]
     },
     "execution_count": 10,
     "metadata": {},
     "output_type": "execute_result"
    }
   ],
   "source": [
    "# Types of products\n",
    "df['product'].value_counts()"
   ]
  },
  {
   "cell_type": "code",
   "execution_count": 11,
   "metadata": {
    "execution": {
     "iopub.execute_input": "2021-09-05T10:43:26.801438Z",
     "iopub.status.busy": "2021-09-05T10:43:26.795733Z",
     "iopub.status.idle": "2021-09-05T10:43:26.978596Z",
     "shell.execute_reply": "2021-09-05T10:43:26.978108Z",
     "shell.execute_reply.started": "2021-09-05T10:17:46.407167Z"
    },
    "id": "exempt-humanitarian",
    "outputId": "949b1056-f571-4883-b94c-db7729fd6c8b",
    "papermill": {
     "duration": 0.220917,
     "end_time": "2021-09-05T10:43:26.978728",
     "exception": false,
     "start_time": "2021-09-05T10:43:26.757811",
     "status": "completed"
    },
    "scrolled": true,
    "tags": []
   },
   "outputs": [
    {
     "data": {
      "image/png": "[encoded data removed]",
      "text/plain": [
       "<Figure size 432x288 with 1 Axes>"
      ]
     },
     "metadata": {
      "needs_background": "light"
     },
     "output_type": "display_data"
    }
   ],
   "source": [
    "# Plotting product value counts\n",
    "df.groupby('product').count().plot(kind='bar')\n",
    "plt.show()"
   ]
  },
  {
   "cell_type": "markdown",
   "metadata": {
    "papermill": {
     "duration": 0.034884,
     "end_time": "2021-09-05T10:43:27.050912",
     "exception": false,
     "start_time": "2021-09-05T10:43:27.016028",
     "status": "completed"
    },
    "tags": []
   },
   "source": [
    "Dataframe is <b>imbalanced</b>. Improving the balance of the dataframe can improve <b>accuracy</b>."
   ]
  },
  {
   "cell_type": "markdown",
   "metadata": {
    "id": "I3tjVGjeQIwh",
    "papermill": {
     "duration": 0.034612,
     "end_time": "2021-09-05T10:43:27.120811",
     "exception": false,
     "start_time": "2021-09-05T10:43:27.086199",
     "status": "completed"
    },
    "tags": []
   },
   "source": [
    "# 2. Train-Test Splitting"
   ]
  },
  {
   "cell_type": "code",
   "execution_count": 12,
   "metadata": {
    "execution": {
     "iopub.execute_input": "2021-09-05T10:43:27.193991Z",
     "iopub.status.busy": "2021-09-05T10:43:27.193340Z",
     "iopub.status.idle": "2021-09-05T10:43:27.713920Z",
     "shell.execute_reply": "2021-09-05T10:43:27.713443Z",
     "shell.execute_reply.started": "2021-09-05T10:17:46.635337Z"
    },
    "id": "0Npw26WoQerZ",
    "papermill": {
     "duration": 0.558769,
     "end_time": "2021-09-05T10:43:27.714040",
     "exception": false,
     "start_time": "2021-09-05T10:43:27.155271",
     "status": "completed"
    },
    "tags": []
   },
   "outputs": [],
   "source": [
    "# Importing train test splilt library \n",
    "from sklearn.model_selection import train_test_split\n",
    "\n",
    "# Train-Test Splitting\n",
    "train_data, test_data = train_test_split(df, test_size = 0.20)"
   ]
  },
  {
   "cell_type": "code",
   "execution_count": 13,
   "metadata": {
    "execution": {
     "iopub.execute_input": "2021-09-05T10:43:27.788469Z",
     "iopub.status.busy": "2021-09-05T10:43:27.787909Z",
     "iopub.status.idle": "2021-09-05T10:43:27.792952Z",
     "shell.execute_reply": "2021-09-05T10:43:27.793343Z",
     "shell.execute_reply.started": "2021-09-05T10:17:47.373379Z"
    },
    "id": "wmJ8UWWRRMiv",
    "outputId": "a90a5410-9b11-4a71-a488-275a6b738949",
    "papermill": {
     "duration": 0.044506,
     "end_time": "2021-09-05T10:43:27.793473",
     "exception": false,
     "start_time": "2021-09-05T10:43:27.748967",
     "status": "completed"
    },
    "tags": []
   },
   "outputs": [
    {
     "data": {
      "text/plain": [
       "((129928, 2), (32483, 2))"
      ]
     },
     "execution_count": 13,
     "metadata": {},
     "output_type": "execute_result"
    }
   ],
   "source": [
    "# Train and test data dimensions\n",
    "train_data.shape, test_data.shape"
   ]
  },
  {
   "cell_type": "code",
   "execution_count": 14,
   "metadata": {
    "execution": {
     "iopub.execute_input": "2021-09-05T10:43:27.872492Z",
     "iopub.status.busy": "2021-09-05T10:43:27.871764Z",
     "iopub.status.idle": "2021-09-05T10:43:28.036724Z",
     "shell.execute_reply": "2021-09-05T10:43:28.036284Z",
     "shell.execute_reply.started": "2021-09-05T10:17:47.385361Z"
    },
    "id": "UDjWZswx5uA7",
    "outputId": "37a7ceed-11c2-4370-f29c-83ac050db172",
    "papermill": {
     "duration": 0.208655,
     "end_time": "2021-09-05T10:43:28.036852",
     "exception": false,
     "start_time": "2021-09-05T10:43:27.828197",
     "status": "completed"
    },
    "tags": []
   },
   "outputs": [
    {
     "data": {
      "image/png": "[encoded data removed]",
      "text/plain": [
       "<Figure size 432x288 with 1 Axes>"
      ]
     },
     "metadata": {
      "needs_background": "light"
     },
     "output_type": "display_data"
    }
   ],
   "source": [
    "# Balance of train data\n",
    "train_data.groupby('product').count().plot(kind='bar')\n",
    "plt.show()"
   ]
  },
  {
   "cell_type": "markdown",
   "metadata": {
    "papermill": {
     "duration": 0.035464,
     "end_time": "2021-09-05T10:43:28.108452",
     "exception": false,
     "start_time": "2021-09-05T10:43:28.072988",
     "status": "completed"
    },
    "tags": []
   },
   "source": [
    "* credit_card, debt_collection, mortgages_and_loans, retail_banking columns consist of <b>very few values</b>. So, the values in these columns will be increased using <b>random oversampling</b>.\n",
    "* Oversampling is done in train set because this will prevent <b>data leakage</b> to test set.  "
   ]
  },
  {
   "cell_type": "markdown",
   "metadata": {
    "id": "VXakU3wY4yHP",
    "papermill": {
     "duration": 0.035317,
     "end_time": "2021-09-05T10:43:28.179683",
     "exception": false,
     "start_time": "2021-09-05T10:43:28.144366",
     "status": "completed"
    },
    "tags": []
   },
   "source": [
    "# 3. Random Oversampling"
   ]
  },
  {
   "cell_type": "code",
   "execution_count": 15,
   "metadata": {
    "execution": {
     "iopub.execute_input": "2021-09-05T10:43:28.259608Z",
     "iopub.status.busy": "2021-09-05T10:43:28.258881Z",
     "iopub.status.idle": "2021-09-05T10:43:28.290153Z",
     "shell.execute_reply": "2021-09-05T10:43:28.290520Z",
     "shell.execute_reply.started": "2021-09-05T10:17:47.596852Z"
    },
    "id": "S0sFd29w920r",
    "outputId": "b7aadec8-4bba-48d3-c0f2-0b31aad6adee",
    "papermill": {
     "duration": 0.07542,
     "end_time": "2021-09-05T10:43:28.290648",
     "exception": false,
     "start_time": "2021-09-05T10:43:28.215228",
     "status": "completed"
    },
    "tags": []
   },
   "outputs": [
    {
     "data": {
      "text/html": [
       "<div>\n",
       "<style scoped>\n",
       "    .dataframe tbody tr th:only-of-type {\n",
       "        vertical-align: middle;\n",
       "    }\n",
       "\n",
       "    .dataframe tbody tr th {\n",
       "        vertical-align: top;\n",
       "    }\n",
       "\n",
       "    .dataframe thead th {\n",
       "        text-align: right;\n",
       "    }\n",
       "</style>\n",
       "<table border=\"1\" class=\"dataframe\">\n",
       "  <thead>\n",
       "    <tr style=\"text-align: right;\">\n",
       "      <th></th>\n",
       "      <th>tweet</th>\n",
       "    </tr>\n",
       "    <tr>\n",
       "      <th>product</th>\n",
       "      <th></th>\n",
       "    </tr>\n",
       "  </thead>\n",
       "  <tbody>\n",
       "    <tr>\n",
       "      <th>credit_card</th>\n",
       "      <td>12416</td>\n",
       "    </tr>\n",
       "    <tr>\n",
       "      <th>credit_reporting</th>\n",
       "      <td>73039</td>\n",
       "    </tr>\n",
       "    <tr>\n",
       "      <th>debt_collection</th>\n",
       "      <td>18351</td>\n",
       "    </tr>\n",
       "    <tr>\n",
       "      <th>mortgages_and_loans</th>\n",
       "      <td>15175</td>\n",
       "    </tr>\n",
       "    <tr>\n",
       "      <th>retail_banking</th>\n",
       "      <td>10947</td>\n",
       "    </tr>\n",
       "  </tbody>\n",
       "</table>\n",
       "</div>"
      ],
      "text/plain": [
       "                     tweet\n",
       "product                   \n",
       "credit_card          12416\n",
       "credit_reporting     73039\n",
       "debt_collection      18351\n",
       "mortgages_and_loans  15175\n",
       "retail_banking       10947"
      ]
     },
     "execution_count": 15,
     "metadata": {},
     "output_type": "execute_result"
    }
   ],
   "source": [
    "# Train set value counts \n",
    "train_data.groupby('product').count()"
   ]
  },
  {
   "cell_type": "code",
   "execution_count": 16,
   "metadata": {
    "execution": {
     "iopub.execute_input": "2021-09-05T10:43:28.383867Z",
     "iopub.status.busy": "2021-09-05T10:43:28.383060Z",
     "iopub.status.idle": "2021-09-05T10:43:28.441246Z",
     "shell.execute_reply": "2021-09-05T10:43:28.441610Z",
     "shell.execute_reply.started": "2021-09-05T10:17:47.644859Z"
    },
    "id": "eYnwUoct433o",
    "outputId": "f841be63-0c8c-43aa-9a69-01eece84466e",
    "papermill": {
     "duration": 0.115144,
     "end_time": "2021-09-05T10:43:28.441742",
     "exception": false,
     "start_time": "2021-09-05T10:43:28.326598",
     "status": "completed"
    },
    "tags": []
   },
   "outputs": [
    {
     "data": {
      "text/plain": [
       "28000"
      ]
     },
     "execution_count": 16,
     "metadata": {},
     "output_type": "execute_result"
    }
   ],
   "source": [
    "# Randomly selecting 7000 indices in classes with low value count\n",
    "import numpy as np\n",
    "to_add_1 = np.random.choice(train_data[train_data['product']=='credit_card'].index,size = 7000,replace=False)   \n",
    "to_add_2 = np.random.choice(train_data[train_data['product']=='debt_collection'].index,size = 7000,replace=False) \n",
    "to_add_3 = np.random.choice(train_data[train_data['product']=='mortgages_and_loans'].index,size = 7000,replace=False)  \n",
    "to_add_4 = np.random.choice(train_data[train_data['product']=='retail_banking'].index,size=7000,replace=False)\n",
    "\n",
    "# Indices to be added\n",
    "to_add = np.concatenate((to_add_1, to_add_2, to_add_3, to_add_4 ))\n",
    "len(to_add)"
   ]
  },
  {
   "cell_type": "code",
   "execution_count": 17,
   "metadata": {
    "execution": {
     "iopub.execute_input": "2021-09-05T10:43:28.517646Z",
     "iopub.status.busy": "2021-09-05T10:43:28.516896Z",
     "iopub.status.idle": "2021-09-05T10:43:28.531035Z",
     "shell.execute_reply": "2021-09-05T10:43:28.530634Z",
     "shell.execute_reply.started": "2021-09-05T10:17:47.725626Z"
    },
    "id": "IK6dVVmD4315",
    "outputId": "a4cfb5b9-c2be-4d6e-c64e-e38fe922fbfb",
    "papermill": {
     "duration": 0.053287,
     "end_time": "2021-09-05T10:43:28.531155",
     "exception": false,
     "start_time": "2021-09-05T10:43:28.477868",
     "status": "completed"
    },
    "tags": []
   },
   "outputs": [
    {
     "data": {
      "text/html": [
       "<div>\n",
       "<style scoped>\n",
       "    .dataframe tbody tr th:only-of-type {\n",
       "        vertical-align: middle;\n",
       "    }\n",
       "\n",
       "    .dataframe tbody tr th {\n",
       "        vertical-align: top;\n",
       "    }\n",
       "\n",
       "    .dataframe thead th {\n",
       "        text-align: right;\n",
       "    }\n",
       "</style>\n",
       "<table border=\"1\" class=\"dataframe\">\n",
       "  <thead>\n",
       "    <tr style=\"text-align: right;\">\n",
       "      <th></th>\n",
       "      <th>product</th>\n",
       "      <th>tweet</th>\n",
       "    </tr>\n",
       "  </thead>\n",
       "  <tbody>\n",
       "    <tr>\n",
       "      <th>48953</th>\n",
       "      <td>credit_card</td>\n",
       "      <td>store card amazon thru synchrony bank went acc...</td>\n",
       "    </tr>\n",
       "    <tr>\n",
       "      <th>102689</th>\n",
       "      <td>mortgages_and_loans</td>\n",
       "      <td>navient using unfair business practice inaccur...</td>\n",
       "    </tr>\n",
       "    <tr>\n",
       "      <th>64140</th>\n",
       "      <td>credit_card</td>\n",
       "      <td>logged call citibank regarding credit account ...</td>\n",
       "    </tr>\n",
       "    <tr>\n",
       "      <th>90901</th>\n",
       "      <td>retail_banking</td>\n",
       "      <td>large ach withdraws business account totaling ...</td>\n",
       "    </tr>\n",
       "    <tr>\n",
       "      <th>24598</th>\n",
       "      <td>mortgages_and_loans</td>\n",
       "      <td>hello utilized loan deferral option well fargo...</td>\n",
       "    </tr>\n",
       "    <tr>\n",
       "      <th>...</th>\n",
       "      <td>...</td>\n",
       "      <td>...</td>\n",
       "    </tr>\n",
       "    <tr>\n",
       "      <th>94473</th>\n",
       "      <td>debt_collection</td>\n",
       "      <td>kansa counselor attempting collect debt mine d...</td>\n",
       "    </tr>\n",
       "    <tr>\n",
       "      <th>121668</th>\n",
       "      <td>mortgages_and_loans</td>\n",
       "      <td>recently refinanced home loanunited sold loan ...</td>\n",
       "    </tr>\n",
       "    <tr>\n",
       "      <th>83169</th>\n",
       "      <td>credit_card</td>\n",
       "      <td>shocked reviewing credit report found late pay...</td>\n",
       "    </tr>\n",
       "    <tr>\n",
       "      <th>51471</th>\n",
       "      <td>retail_banking</td>\n",
       "      <td>dealing nonsense since fraudulently charged ac...</td>\n",
       "    </tr>\n",
       "    <tr>\n",
       "      <th>109892</th>\n",
       "      <td>retail_banking</td>\n",
       "      <td>unable access mobile banking account given err...</td>\n",
       "    </tr>\n",
       "  </tbody>\n",
       "</table>\n",
       "<p>28000 rows × 2 columns</p>\n",
       "</div>"
      ],
      "text/plain": [
       "                    product                                              tweet\n",
       "48953           credit_card  store card amazon thru synchrony bank went acc...\n",
       "102689  mortgages_and_loans  navient using unfair business practice inaccur...\n",
       "64140           credit_card  logged call citibank regarding credit account ...\n",
       "90901        retail_banking  large ach withdraws business account totaling ...\n",
       "24598   mortgages_and_loans  hello utilized loan deferral option well fargo...\n",
       "...                     ...                                                ...\n",
       "94473       debt_collection  kansa counselor attempting collect debt mine d...\n",
       "121668  mortgages_and_loans  recently refinanced home loanunited sold loan ...\n",
       "83169           credit_card  shocked reviewing credit report found late pay...\n",
       "51471        retail_banking  dealing nonsense since fraudulently charged ac...\n",
       "109892       retail_banking  unable access mobile banking account given err...\n",
       "\n",
       "[28000 rows x 2 columns]"
      ]
     },
     "execution_count": 17,
     "metadata": {},
     "output_type": "execute_result"
    }
   ],
   "source": [
    "# Forming a dataframe for randomly selected indices\n",
    "df_replicate = train_data[train_data.index.isin(to_add)]\n",
    "df_replicate  "
   ]
  },
  {
   "cell_type": "code",
   "execution_count": 18,
   "metadata": {
    "execution": {
     "iopub.execute_input": "2021-09-05T10:43:28.751989Z",
     "iopub.status.busy": "2021-09-05T10:43:28.751052Z",
     "iopub.status.idle": "2021-09-05T10:43:28.793911Z",
     "shell.execute_reply": "2021-09-05T10:43:28.794325Z",
     "shell.execute_reply.started": "2021-09-05T10:17:47.908847Z"
    },
    "id": "6qwLPU-_43zB",
    "outputId": "751dc214-f641-42ee-82bd-44b11d1079e4",
    "papermill": {
     "duration": 0.226969,
     "end_time": "2021-09-05T10:43:28.794480",
     "exception": false,
     "start_time": "2021-09-05T10:43:28.567511",
     "status": "completed"
    },
    "tags": []
   },
   "outputs": [
    {
     "data": {
      "text/plain": [
       "credit_reporting       73039\n",
       "debt_collection        25351\n",
       "mortgages_and_loans    22175\n",
       "credit_card            19416\n",
       "retail_banking         17947\n",
       "Name: product, dtype: int64"
      ]
     },
     "execution_count": 18,
     "metadata": {},
     "output_type": "execute_result"
    }
   ],
   "source": [
    "# Concatenating replicated df to orinigal df\n",
    "train_data = pd.concat([train_data, df_replicate])\n",
    "train_data['product'].value_counts()"
   ]
  },
  {
   "cell_type": "markdown",
   "metadata": {
    "papermill": {
     "duration": 0.03741,
     "end_time": "2021-09-05T10:43:28.869315",
     "exception": false,
     "start_time": "2021-09-05T10:43:28.831905",
     "status": "completed"
    },
    "tags": []
   },
   "source": [
    "Value counts of minority classes have <b>increased</b>. "
   ]
  },
  {
   "cell_type": "markdown",
   "metadata": {
    "id": "vaWM42U_wjOo",
    "papermill": {
     "duration": 0.038066,
     "end_time": "2021-09-05T10:43:28.944707",
     "exception": false,
     "start_time": "2021-09-05T10:43:28.906641",
     "status": "completed"
    },
    "tags": []
   },
   "source": [
    "# 4. Text Preprocessing"
   ]
  },
  {
   "cell_type": "code",
   "execution_count": 19,
   "metadata": {
    "execution": {
     "iopub.execute_input": "2021-09-05T10:43:29.022390Z",
     "iopub.status.busy": "2021-09-05T10:43:29.021750Z",
     "iopub.status.idle": "2021-09-05T10:43:29.449599Z",
     "shell.execute_reply": "2021-09-05T10:43:29.449081Z",
     "shell.execute_reply.started": "2021-09-05T10:17:47.958412Z"
    },
    "id": "HEsXd9eexArW",
    "papermill": {
     "duration": 0.468171,
     "end_time": "2021-09-05T10:43:29.449730",
     "exception": false,
     "start_time": "2021-09-05T10:43:28.981559",
     "status": "completed"
    },
    "tags": []
   },
   "outputs": [],
   "source": [
    "# Importing NLTK Libraries\n",
    "import nltk\n",
    "from nltk.corpus import stopwords\n",
    "from nltk import *"
   ]
  },
  {
   "cell_type": "code",
   "execution_count": 20,
   "metadata": {
    "execution": {
     "iopub.execute_input": "2021-09-05T10:43:29.530432Z",
     "iopub.status.busy": "2021-09-05T10:43:29.529735Z",
     "iopub.status.idle": "2021-09-05T10:43:29.532064Z",
     "shell.execute_reply": "2021-09-05T10:43:29.532445Z",
     "shell.execute_reply.started": "2021-09-05T10:17:48.547424Z"
    },
    "id": "lmcM_4nX3lT6",
    "papermill": {
     "duration": 0.045281,
     "end_time": "2021-09-05T10:43:29.532566",
     "exception": false,
     "start_time": "2021-09-05T10:43:29.487285",
     "status": "completed"
    },
    "tags": []
   },
   "outputs": [],
   "source": [
    "# Declaring function for text preprocessing \n",
    "\n",
    "def preprocess_text(main_df):\n",
    "  df_1 = main_df.copy()\n",
    "\n",
    "  # remove stopwords\n",
    "  nltk.download('stopwords')         # Downloading stopwords\n",
    "  stop = stopwords.words('english')  \n",
    "  df_1['tweet'] = df_1['tweet'].apply(lambda x: \" \".join(x for x in x.split() if x not in stop)) \n",
    "  \n",
    "  # remove punctuations and convert to lower case\n",
    "  df_1['tweet'] = df_1['tweet'].apply(lambda x: re.sub('[!@#$:).;,?&]', '', x.lower()))\n",
    "  \n",
    "  # remove double spaces\n",
    "  df_1['tweet'] = df_1['tweet'].apply(lambda x: re.sub(' ', ' ', x))\n",
    "\n",
    "  return df_1  "
   ]
  },
  {
   "cell_type": "code",
   "execution_count": 21,
   "metadata": {
    "execution": {
     "iopub.execute_input": "2021-09-05T10:43:29.609908Z",
     "iopub.status.busy": "2021-09-05T10:43:29.609140Z",
     "iopub.status.idle": "2021-09-05T10:44:12.302585Z",
     "shell.execute_reply": "2021-09-05T10:44:12.301700Z",
     "shell.execute_reply.started": "2021-09-05T10:17:48.557658Z"
    },
    "id": "STc3UUOL5ALt",
    "outputId": "72880404-1d0a-4329-b1f8-dbe7a477ec90",
    "papermill": {
     "duration": 42.733525,
     "end_time": "2021-09-05T10:44:12.302746",
     "exception": false,
     "start_time": "2021-09-05T10:43:29.569221",
     "status": "completed"
    },
    "tags": []
   },
   "outputs": [
    {
     "name": "stderr",
     "output_type": "stream",
     "text": [
      "[nltk_data] Downloading package stopwords to\n",
      "[nltk_data]     C:\\Users\\Saicharitha\\AppData\\Roaming\\nltk_data...\n",
      "[nltk_data]   Unzipping corpora\\stopwords.zip.\n",
      "[nltk_data] Downloading package stopwords to\n",
      "[nltk_data]     C:\\Users\\Saicharitha\\AppData\\Roaming\\nltk_data...\n",
      "[nltk_data]   Package stopwords is already up-to-date!\n"
     ]
    }
   ],
   "source": [
    "# Preprocessing training and test data \n",
    "train_data = preprocess_text(train_data)\n",
    "test_data = preprocess_text(test_data)"
   ]
  },
  {
   "cell_type": "code",
   "execution_count": 22,
   "metadata": {
    "execution": {
     "iopub.execute_input": "2021-09-05T10:44:12.384648Z",
     "iopub.status.busy": "2021-09-05T10:44:12.383920Z",
     "iopub.status.idle": "2021-09-05T10:44:12.387449Z",
     "shell.execute_reply": "2021-09-05T10:44:12.386959Z",
     "shell.execute_reply.started": "2021-09-05T10:18:27.477412Z"
    },
    "id": "y3B_Lo6r4sCq",
    "outputId": "c17f0863-ce95-4504-c62a-adb0d6ae83d2",
    "papermill": {
     "duration": 0.046697,
     "end_time": "2021-09-05T10:44:12.387560",
     "exception": false,
     "start_time": "2021-09-05T10:44:12.340863",
     "status": "completed"
    },
    "tags": []
   },
   "outputs": [
    {
     "data": {
      "text/plain": [
       "161849    experian updated following account credit prof...\n",
       "106805    applied sba relief fund denied credit score ca...\n",
       "34863     applied credit card today approved called ask ...\n",
       "32663     trying pay outstanding collection balance refl...\n",
       "44732     capitol one card late paid card full card anym...\n",
       "Name: tweet, dtype: object"
      ]
     },
     "execution_count": 22,
     "metadata": {},
     "output_type": "execute_result"
    }
   ],
   "source": [
    "# Verifying text preprocessing\n",
    "train_data['tweet'].head()"
   ]
  },
  {
   "cell_type": "markdown",
   "metadata": {
    "id": "latter-checkout",
    "papermill": {
     "duration": 0.038044,
     "end_time": "2021-09-05T10:44:12.463746",
     "exception": false,
     "start_time": "2021-09-05T10:44:12.425702",
     "status": "completed"
    },
    "tags": []
   },
   "source": [
    "# 5. Label Encoding"
   ]
  },
  {
   "cell_type": "code",
   "execution_count": 23,
   "metadata": {
    "execution": {
     "iopub.execute_input": "2021-09-05T10:44:12.543747Z",
     "iopub.status.busy": "2021-09-05T10:44:12.543012Z",
     "iopub.status.idle": "2021-09-05T10:44:12.545273Z",
     "shell.execute_reply": "2021-09-05T10:44:12.545636Z",
     "shell.execute_reply.started": "2021-09-05T10:18:27.489651Z"
    },
    "id": "B79R84lBEjq1",
    "papermill": {
     "duration": 0.044045,
     "end_time": "2021-09-05T10:44:12.545764",
     "exception": false,
     "start_time": "2021-09-05T10:44:12.501719",
     "status": "completed"
    },
    "tags": []
   },
   "outputs": [],
   "source": [
    "# Declaring train labels\n",
    "train_labels = train_data['product'] \n",
    "test_labels = test_data['product']"
   ]
  },
  {
   "cell_type": "code",
   "execution_count": 24,
   "metadata": {
    "execution": {
     "iopub.execute_input": "2021-09-05T10:44:12.674726Z",
     "iopub.status.busy": "2021-09-05T10:44:12.673945Z",
     "iopub.status.idle": "2021-09-05T10:44:12.683053Z",
     "shell.execute_reply": "2021-09-05T10:44:12.683600Z",
     "shell.execute_reply.started": "2021-09-05T10:18:27.501497Z"
    },
    "id": "functioning-anniversary",
    "outputId": "159fe6d6-6924-4ae2-be2d-f75b967ca5bb",
    "papermill": {
     "duration": 0.100336,
     "end_time": "2021-09-05T10:44:12.683760",
     "exception": false,
     "start_time": "2021-09-05T10:44:12.583424",
     "status": "completed"
    },
    "tags": []
   },
   "outputs": [
    {
     "name": "stdout",
     "output_type": "stream",
     "text": [
      "['credit_card' 'credit_reporting' 'debt_collection' 'mortgages_and_loans'\n",
      " 'retail_banking']\n",
      "(array([0, 1, 2, 3, 4]), array([19416, 73039, 25351, 22175, 17947], dtype=int64))\n",
      "(array([0, 1, 2, 3, 4]), array([ 3150, 18133,  4797,  3815,  2588], dtype=int64))\n"
     ]
    }
   ],
   "source": [
    "# Converting labels to numerical features\n",
    "import numpy as np\n",
    "from sklearn.preprocessing import LabelEncoder\n",
    "\n",
    "le = LabelEncoder()\n",
    "le.fit(train_labels)\n",
    "train_labels = le.transform(train_labels)\n",
    "test_labels = le.transform(test_labels)\n",
    "\n",
    "print(le.classes_)\n",
    "print(np.unique(train_labels, return_counts=True))\n",
    "print(np.unique(test_labels, return_counts=True))"
   ]
  },
  {
   "cell_type": "code",
   "execution_count": 25,
   "metadata": {
    "execution": {
     "iopub.execute_input": "2021-09-05T10:44:12.765672Z",
     "iopub.status.busy": "2021-09-05T10:44:12.764857Z",
     "iopub.status.idle": "2021-09-05T10:44:12.769685Z",
     "shell.execute_reply": "2021-09-05T10:44:12.770047Z",
     "shell.execute_reply.started": "2021-09-05T10:18:27.575316Z"
    },
    "id": "aging-legislation",
    "papermill": {
     "duration": 0.047429,
     "end_time": "2021-09-05T10:44:12.770184",
     "exception": false,
     "start_time": "2021-09-05T10:44:12.722755",
     "status": "completed"
    },
    "tags": []
   },
   "outputs": [],
   "source": [
    "# Changing labels to categorical features\n",
    "import numpy as np\n",
    "from tensorflow.python.keras.utils import np_utils\n",
    "from tensorflow.keras.utils import to_categorical\n",
    "import numpy as np\n",
    "\n",
    "train_labels = to_categorical(np.asarray(train_labels))\n",
    "test_labels = to_categorical(np.array(test_labels))"
   ]
  },
  {
   "cell_type": "markdown",
   "metadata": {
    "id": "QYsRdnbBJElq",
    "papermill": {
     "duration": 0.038432,
     "end_time": "2021-09-05T10:44:12.847403",
     "exception": false,
     "start_time": "2021-09-05T10:44:12.808971",
     "status": "completed"
    },
    "tags": []
   },
   "source": [
    "# 6. Tokenizing Sentences and Fixing Sentence Length"
   ]
  },
  {
   "cell_type": "code",
   "execution_count": 26,
   "metadata": {
    "execution": {
     "iopub.execute_input": "2021-09-05T10:44:12.958788Z",
     "iopub.status.busy": "2021-09-05T10:44:12.933199Z",
     "iopub.status.idle": "2021-09-05T10:44:32.080696Z",
     "shell.execute_reply": "2021-09-05T10:44:32.080142Z",
     "shell.execute_reply.started": "2021-09-05T10:18:27.587914Z"
    },
    "id": "xoWD8JOzJQ5f",
    "outputId": "1afad274-124c-40a8-b206-2a476c2d5ec4",
    "papermill": {
     "duration": 19.194841,
     "end_time": "2021-09-05T10:44:32.080826",
     "exception": false,
     "start_time": "2021-09-05T10:44:12.885985",
     "status": "completed"
    },
    "tags": []
   },
   "outputs": [],
   "source": [
    "from tensorflow.keras.preprocessing.text import Tokenizer\n",
    "\n",
    "# Defining training parameters\n",
    "max_sequence_length = 170   \n",
    "max_words = 2500   \n",
    "\n",
    "# Tokenizing tweets/sentences wrt num_words\n",
    "tokenizer = Tokenizer(num_words = max_words)  # Selects most frequent words \n",
    "tokenizer.fit_on_texts(train_data.tweet)      # Develops internal vocab based on training text\n",
    "train_sequences = tokenizer.texts_to_sequences(train_data.tweet)  # converts text to sequence\n",
    "\n",
    "test_sequences = tokenizer.texts_to_sequences(test_data.tweet)"
   ]
  },
  {
   "cell_type": "code",
   "execution_count": 27,
   "metadata": {
    "execution": {
     "iopub.execute_input": "2021-09-05T10:44:32.184061Z",
     "iopub.status.busy": "2021-09-05T10:44:32.182998Z",
     "iopub.status.idle": "2021-09-05T10:44:35.234092Z",
     "shell.execute_reply": "2021-09-05T10:44:35.233302Z",
     "shell.execute_reply.started": "2021-09-05T10:18:50.437192Z"
    },
    "id": "djBvMk-BJQyg",
    "outputId": "5250a5a1-9be9-4705-ad8e-8e8ef432e135",
    "papermill": {
     "duration": 3.114243,
     "end_time": "2021-09-05T10:44:35.234242",
     "exception": false,
     "start_time": "2021-09-05T10:44:32.119999",
     "status": "completed"
    },
    "tags": []
   },
   "outputs": [
    {
     "data": {
      "text/plain": [
       "((157928, 170), (32483, 170))"
      ]
     },
     "execution_count": 27,
     "metadata": {},
     "output_type": "execute_result"
    }
   ],
   "source": [
    "# Fixing the sequence length \n",
    "from tensorflow.keras.preprocessing.sequence import pad_sequences\n",
    "train_data = pad_sequences(train_sequences, maxlen = max_sequence_length)\n",
    "test_data = pad_sequences(test_sequences, maxlen = max_sequence_length)\n",
    "train_data.shape, test_data.shape"
   ]
  },
  {
   "cell_type": "markdown",
   "metadata": {
    "id": "honey-orbit",
    "papermill": {
     "duration": 0.037844,
     "end_time": "2021-09-05T10:44:35.310581",
     "exception": false,
     "start_time": "2021-09-05T10:44:35.272737",
     "status": "completed"
    },
    "tags": []
   },
   "source": [
    "# 7. Bi-LSTM Model"
   ]
  },
  {
   "cell_type": "markdown",
   "metadata": {
    "id": "wE-GkxBSUVSc",
    "papermill": {
     "duration": 0.037903,
     "end_time": "2021-09-05T10:44:35.386526",
     "exception": false,
     "start_time": "2021-09-05T10:44:35.348623",
     "status": "completed"
    },
    "tags": []
   },
   "source": [
    "## # 7.1 Declaring Model"
   ]
  },
  {
   "cell_type": "code",
   "execution_count": 28,
   "metadata": {
    "execution": {
     "iopub.execute_input": "2021-09-05T10:44:35.467206Z",
     "iopub.status.busy": "2021-09-05T10:44:35.466334Z",
     "iopub.status.idle": "2021-09-05T10:44:35.468893Z",
     "shell.execute_reply": "2021-09-05T10:44:35.468493Z",
     "shell.execute_reply.started": "2021-09-05T10:18:53.673026Z"
    },
    "id": "IfzH9ISoBDji",
    "papermill": {
     "duration": 0.044502,
     "end_time": "2021-09-05T10:44:35.469007",
     "exception": false,
     "start_time": "2021-09-05T10:44:35.424505",
     "status": "completed"
    },
    "tags": []
   },
   "outputs": [],
   "source": [
    "# Model Parameters\n",
    "embedding_dim = 32  "
   ]
  },
  {
   "cell_type": "code",
   "execution_count": 29,
   "metadata": {
    "execution": {
     "iopub.execute_input": "2021-09-05T10:44:35.551445Z",
     "iopub.status.busy": "2021-09-05T10:44:35.550722Z",
     "iopub.status.idle": "2021-09-05T10:44:35.552965Z",
     "shell.execute_reply": "2021-09-05T10:44:35.553417Z",
     "shell.execute_reply.started": "2021-09-05T10:18:53.680494Z"
    },
    "id": "compact-functionality",
    "papermill": {
     "duration": 0.046554,
     "end_time": "2021-09-05T10:44:35.553543",
     "exception": false,
     "start_time": "2021-09-05T10:44:35.506989",
     "status": "completed"
    },
    "tags": []
   },
   "outputs": [],
   "source": [
    "# Importing Libraries\n",
    "\n",
    "import tensorflow as tf\n",
    "import sys, os, re, csv, codecs, numpy as np, pandas as pd\n",
    "from tensorflow.keras.layers import Dense, Input, LSTM, Embedding, Dropout, Activation\n",
    "from tensorflow.keras.layers import Bidirectional, GlobalMaxPool1D, Conv1D, SimpleRNN\n",
    "from tensorflow.keras.models import Model\n",
    "from tensorflow.keras.models import Sequential\n",
    "from tensorflow.keras import initializers, regularizers, constraints, optimizers, layers\n",
    "from tensorflow.keras.layers import Dense, Input, Input, Flatten, Dropout, BatchNormalization\n",
    "from tensorflow.keras.layers import Conv1D, MaxPooling1D, Embedding "
   ]
  },
  {
   "cell_type": "code",
   "execution_count": 30,
   "metadata": {
    "execution": {
     "iopub.execute_input": "2021-09-05T10:44:35.634205Z",
     "iopub.status.busy": "2021-09-05T10:44:35.633709Z",
     "iopub.status.idle": "2021-09-05T10:44:36.437398Z",
     "shell.execute_reply": "2021-09-05T10:44:36.437992Z",
     "shell.execute_reply.started": "2021-09-05T10:18:53.694012Z"
    },
    "id": "regular-neighborhood",
    "outputId": "c3fb74eb-3329-41c9-b2ae-9357c2db2df3",
    "papermill": {
     "duration": 0.846688,
     "end_time": "2021-09-05T10:44:36.438209",
     "exception": false,
     "start_time": "2021-09-05T10:44:35.591521",
     "status": "completed"
    },
    "tags": []
   },
   "outputs": [
    {
     "name": "stdout",
     "output_type": "stream",
     "text": [
      "Model: \"sequential\"\n",
      "_________________________________________________________________\n",
      "Layer (type)                 Output Shape              Param #   \n",
      "=================================================================\n",
      "embedding (Embedding)        (None, 170, 32)           80000     \n",
      "_________________________________________________________________\n",
      "bidirectional (Bidirectional (None, 170, 32)           6272      \n",
      "_________________________________________________________________\n",
      "global_max_pooling1d (Global (None, 32)                0         \n",
      "_________________________________________________________________\n",
      "dense (Dense)                (None, 5)                 165       \n",
      "=================================================================\n",
      "Total params: 86,437\n",
      "Trainable params: 86,437\n",
      "Non-trainable params: 0\n",
      "_________________________________________________________________\n"
     ]
    }
   ],
   "source": [
    "embedding_dim = 32  \n",
    "\n",
    "# Model Training\n",
    "model = Sequential()\n",
    "model.add(Embedding(max_words, \n",
    "                   embedding_dim,\n",
    "                   input_length=max_sequence_length))\n",
    "\n",
    "# Bidirectional LSTM \n",
    "model.add(Bidirectional(LSTM(16, return_sequences=True, dropout=0.4, recurrent_dropout=0)))   \n",
    "\n",
    "model.add(GlobalMaxPool1D())\n",
    "\n",
    "model.add(Dense(5,activation='softmax'))  \n",
    "\n",
    "model.summary()"
   ]
  },
  {
   "cell_type": "markdown",
   "metadata": {
    "id": "XzO3QaesUM13",
    "papermill": {
     "duration": 0.038054,
     "end_time": "2021-09-05T10:44:36.515848",
     "exception": false,
     "start_time": "2021-09-05T10:44:36.477794",
     "status": "completed"
    },
    "tags": []
   },
   "source": [
    "## # 7.2 Passing Data Through Network"
   ]
  },
  {
   "cell_type": "code",
   "execution_count": 31,
   "metadata": {
    "execution": {
     "iopub.execute_input": "2021-09-05T10:44:36.603445Z",
     "iopub.status.busy": "2021-09-05T10:44:36.602638Z",
     "iopub.status.idle": "2021-09-05T10:44:36.608033Z",
     "shell.execute_reply": "2021-09-05T10:44:36.608483Z",
     "shell.execute_reply.started": "2021-09-05T10:18:54.753750Z"
    },
    "id": "listed-christianity",
    "papermill": {
     "duration": 0.054234,
     "end_time": "2021-09-05T10:44:36.608603",
     "exception": false,
     "start_time": "2021-09-05T10:44:36.554369",
     "status": "completed"
    },
    "tags": []
   },
   "outputs": [],
   "source": [
    "model.compile(loss = 'binary_crossentropy', optimizer='RMSProp', metrics = ['accuracy'])   "
   ]
  },
  {
   "cell_type": "code",
   "execution_count": 32,
   "metadata": {
    "execution": {
     "iopub.execute_input": "2021-09-05T10:44:36.689619Z",
     "iopub.status.busy": "2021-09-05T10:44:36.689050Z",
     "iopub.status.idle": "2021-09-05T11:02:31.059595Z",
     "shell.execute_reply": "2021-09-05T11:02:31.058802Z",
     "shell.execute_reply.started": "2021-09-05T10:18:54.775387Z"
    },
    "id": "genuine-millennium",
    "outputId": "8a58c5f3-07c8-4e95-e1a0-11a685210021",
    "papermill": {
     "duration": 1074.412925,
     "end_time": "2021-09-05T11:02:31.059745",
     "exception": false,
     "start_time": "2021-09-05T10:44:36.646820",
     "status": "completed"
    },
    "tags": []
   },
   "outputs": [
    {
     "name": "stdout",
     "output_type": "stream",
     "text": [
      "WARNING:tensorflow:From C:\\Users\\Saicharitha\\anaconda3\\lib\\site-packages\\tensorflow\\python\\ops\\array_ops.py:5043: calling gather (from tensorflow.python.ops.array_ops) with validate_indices is deprecated and will be removed in a future version.\n",
      "Instructions for updating:\n",
      "The `validate_indices` argument has no effect. Indices are always validated on CPU and never validated on GPU.\n",
      "Epoch 1/20\n",
      "3291/3291 [==============================] - 341s 102ms/step - loss: 0.9179 - accuracy: 0.7424 - val_loss: 0.1611 - val_accuracy: 0.8447\n",
      "Epoch 2/20\n",
      "3291/3291 [==============================] - 335s 102ms/step - loss: 0.5988 - accuracy: 0.8500 - val_loss: 0.1447 - val_accuracy: 0.8637\n",
      "Epoch 3/20\n",
      "3291/3291 [==============================] - 325s 99ms/step - loss: 0.5652 - accuracy: 0.8571 - val_loss: 0.1415 - val_accuracy: 0.8654\n",
      "Epoch 4/20\n",
      "3291/3291 [==============================] - 333s 101ms/step - loss: 0.5499 - accuracy: 0.8609 - val_loss: 0.1395 - val_accuracy: 0.8667\n",
      "Epoch 5/20\n",
      "3291/3291 [==============================] - 329s 100ms/step - loss: 0.5374 - accuracy: 0.8637 - val_loss: 0.1387 - val_accuracy: 0.8713\n",
      "Epoch 6/20\n",
      "3291/3291 [==============================] - 327s 99ms/step - loss: 0.5303 - accuracy: 0.8662 - val_loss: 0.1340 - val_accuracy: 0.8732\n",
      "Epoch 7/20\n",
      "3291/3291 [==============================] - 380s 115ms/step - loss: 0.5230 - accuracy: 0.8674 - val_loss: 0.1355 - val_accuracy: 0.8718\n",
      "Epoch 8/20\n",
      "3291/3291 [==============================] - 400s 121ms/step - loss: 0.5195 - accuracy: 0.8691 - val_loss: 0.1341 - val_accuracy: 0.8748\n",
      "Epoch 9/20\n",
      "3291/3291 [==============================] - 404s 123ms/step - loss: 0.5145 - accuracy: 0.8694 - val_loss: 0.1353 - val_accuracy: 0.8746\n",
      "Epoch 10/20\n",
      "3291/3291 [==============================] - 419s 127ms/step - loss: 0.5120 - accuracy: 0.8699 - val_loss: 0.1360 - val_accuracy: 0.8727\n",
      "Epoch 11/20\n",
      "3291/3291 [==============================] - 396s 120ms/step - loss: 0.5067 - accuracy: 0.8722 - val_loss: 0.1382 - val_accuracy: 0.8701\n",
      "Epoch 12/20\n",
      "3291/3291 [==============================] - 399s 121ms/step - loss: 0.5050 - accuracy: 0.8724 - val_loss: 0.1400 - val_accuracy: 0.8708\n",
      "Epoch 13/20\n",
      "3291/3291 [==============================] - 382s 116ms/step - loss: 0.5030 - accuracy: 0.8727 - val_loss: 0.1316 - val_accuracy: 0.8769\n",
      "Epoch 14/20\n",
      "3291/3291 [==============================] - 395s 120ms/step - loss: 0.4989 - accuracy: 0.8748 - val_loss: 0.1354 - val_accuracy: 0.8751\n",
      "Epoch 15/20\n",
      "3291/3291 [==============================] - 407s 124ms/step - loss: 0.4982 - accuracy: 0.8747 - val_loss: 0.1356 - val_accuracy: 0.8752\n",
      "Epoch 16/20\n",
      "3291/3291 [==============================] - 361s 110ms/step - loss: 0.4966 - accuracy: 0.8756 - val_loss: 0.1331 - val_accuracy: 0.8771\n",
      "Epoch 17/20\n",
      "3291/3291 [==============================] - 330s 100ms/step - loss: 0.4943 - accuracy: 0.8754 - val_loss: 0.1313 - val_accuracy: 0.8768\n",
      "Epoch 18/20\n",
      "3291/3291 [==============================] - 305s 93ms/step - loss: 0.4936 - accuracy: 0.8756 - val_loss: 0.1318 - val_accuracy: 0.8773\n",
      "Epoch 19/20\n",
      "3291/3291 [==============================] - 298s 91ms/step - loss: 0.4910 - accuracy: 0.8759 - val_loss: 0.1310 - val_accuracy: 0.8776\n",
      "Epoch 20/20\n",
      "3291/3291 [==============================] - 298s 91ms/step - loss: 0.4899 - accuracy: 0.8763 - val_loss: 0.1320 - val_accuracy: 0.8778\n"
     ]
    }
   ],
   "source": [
    "# declaring weights of product categories\n",
    "class_weight = {0: 4,          \n",
    "                1: 5,    \n",
    "                2: 3,      \n",
    "                3: 3,     \n",
    "                4: 4}      \n",
    "\n",
    "# training and validating model \n",
    "history = model.fit(train_data, train_labels, batch_size=48, epochs= 20, class_weight = class_weight, validation_data=(test_data, test_labels)) # best 89(now) or 48 or 60 epochs # default epochs = 23 # batch_size changed to 1 (takes 2.30hrs) from 16"
   ]
  },
  {
   "cell_type": "code",
   "execution_count": 33,
   "metadata": {
    "execution": {
     "iopub.execute_input": "2021-09-05T11:02:40.711881Z",
     "iopub.status.busy": "2021-09-05T11:02:40.710962Z",
     "iopub.status.idle": "2021-09-05T11:02:46.397371Z",
     "shell.execute_reply": "2021-09-05T11:02:46.397776Z",
     "shell.execute_reply.started": "2021-09-05T10:21:18.482698Z"
    },
    "id": "heard-mentor",
    "papermill": {
     "duration": 10.868041,
     "end_time": "2021-09-05T11:02:46.397929",
     "exception": false,
     "start_time": "2021-09-05T11:02:35.529888",
     "status": "completed"
    },
    "tags": []
   },
   "outputs": [
    {
     "data": {
      "text/plain": [
       "array([[5.4066964e-05, 9.5454482e-03, 9.8960274e-01, 7.5379293e-04,\n",
       "        4.4042863e-05],\n",
       "       [9.5676637e-01, 2.2219934e-03, 3.2103743e-04, 3.5908415e-05,\n",
       "        4.0654551e-02],\n",
       "       [9.9968779e-01, 4.7313049e-05, 2.2248314e-04, 1.0181150e-05,\n",
       "        3.2276945e-05],\n",
       "       ...,\n",
       "       [2.6917392e-06, 9.9993145e-01, 5.4152344e-05, 7.5257644e-06,\n",
       "        4.1508933e-06],\n",
       "       [1.1065241e-04, 1.6673800e-03, 6.6825969e-04, 9.9745196e-01,\n",
       "        1.0167941e-04],\n",
       "       [1.1484627e-06, 9.9996340e-01, 3.2823686e-05, 1.6042965e-06,\n",
       "        1.1020627e-06]], dtype=float32)"
      ]
     },
     "execution_count": 33,
     "metadata": {},
     "output_type": "execute_result"
    }
   ],
   "source": [
    "# Prediction on Test Data\n",
    "predicted_bi_lstm = model.predict(test_data)\n",
    "predicted_bi_lstm"
   ]
  },
  {
   "cell_type": "markdown",
   "metadata": {
    "papermill": {
     "duration": 4.538801,
     "end_time": "2021-09-05T11:02:55.663557",
     "exception": false,
     "start_time": "2021-09-05T11:02:51.124756",
     "status": "completed"
    },
    "tags": []
   },
   "source": [
    "# 8. Model Evaluation"
   ]
  },
  {
   "cell_type": "markdown",
   "metadata": {
    "papermill": {
     "duration": 4.425785,
     "end_time": "2021-09-05T11:03:04.774429",
     "exception": false,
     "start_time": "2021-09-05T11:03:00.348644",
     "status": "completed"
    },
    "tags": []
   },
   "source": [
    "## #8.1Model Performance Attributes"
   ]
  },
  {
   "cell_type": "code",
   "execution_count": 34,
   "metadata": {
    "execution": {
     "iopub.execute_input": "2021-09-05T11:03:14.552233Z",
     "iopub.status.busy": "2021-09-05T11:03:14.551498Z",
     "iopub.status.idle": "2021-09-05T11:03:14.663427Z",
     "shell.execute_reply": "2021-09-05T11:03:14.662787Z",
     "shell.execute_reply.started": "2021-09-05T10:21:26.351882Z"
    },
    "papermill": {
     "duration": 4.916867,
     "end_time": "2021-09-05T11:03:14.663579",
     "exception": false,
     "start_time": "2021-09-05T11:03:09.746712",
     "status": "completed"
    },
    "tags": []
   },
   "outputs": [
    {
     "name": "stdout",
     "output_type": "stream",
     "text": [
      "precision: [0.79301423 0.91606844 0.83118675 0.8860424  0.83250178]\n",
      "recall: [0.7784127  0.93597309 0.75338753 0.7887287  0.90262751]\n",
      "fscore: [0.78564563 0.9259138  0.79037726 0.83455831 0.86614757]\n",
      "support: [ 3150 18133  4797  3815  2588]\n",
      "################################\n",
      "              precision    recall  f1-score   support\n",
      "\n",
      "           0       0.79      0.78      0.79      3150\n",
      "           1       0.92      0.94      0.93     18133\n",
      "           2       0.83      0.75      0.79      4797\n",
      "           3       0.89      0.79      0.83      3815\n",
      "           4       0.83      0.90      0.87      2588\n",
      "\n",
      "   micro avg       0.88      0.87      0.88     32483\n",
      "   macro avg       0.85      0.83      0.84     32483\n",
      "weighted avg       0.88      0.87      0.88     32483\n",
      " samples avg       0.87      0.87      0.87     32483\n",
      "\n"
     ]
    },
    {
     "name": "stderr",
     "output_type": "stream",
     "text": [
      "C:\\Users\\Saicharitha\\anaconda3\\lib\\site-packages\\sklearn\\metrics\\_classification.py:1221: UndefinedMetricWarning: Precision and F-score are ill-defined and being set to 0.0 in samples with no predicted labels. Use `zero_division` parameter to control this behavior.\n",
      "  _warn_prf(average, modifier, msg_start, len(result))\n"
     ]
    }
   ],
   "source": [
    "import sklearn\n",
    "from sklearn.metrics import precision_recall_fscore_support as score\n",
    "precision, recall, fscore, support = score(test_labels, predicted_bi_lstm.round())\n",
    "\n",
    "print('precision: {}'.format(precision))\n",
    "print('recall: {}'.format(recall))\n",
    "print('fscore: {}'.format(fscore))\n",
    "print('support: {}'.format(support))\n",
    "print('################################')\n",
    "print(sklearn.metrics.classification_report(test_labels, predicted_bi_lstm.round()))"
   ]
  },
  {
   "cell_type": "markdown",
   "metadata": {
    "papermill": {
     "duration": 4.694274,
     "end_time": "2021-09-05T11:03:23.805136",
     "exception": false,
     "start_time": "2021-09-05T11:03:19.110862",
     "status": "completed"
    },
    "tags": []
   },
   "source": [
    "## #8.2 Model Performance with Epochs\n"
   ]
  },
  {
   "cell_type": "code",
   "execution_count": 35,
   "metadata": {
    "execution": {
     "iopub.execute_input": "2021-09-05T11:03:32.966461Z",
     "iopub.status.busy": "2021-09-05T11:03:32.965574Z",
     "iopub.status.idle": "2021-09-05T11:03:33.285888Z",
     "shell.execute_reply": "2021-09-05T11:03:33.286316Z",
     "shell.execute_reply.started": "2021-09-05T10:35:22.547532Z"
    },
    "papermill": {
     "duration": 5.019087,
     "end_time": "2021-09-05T11:03:33.286514",
     "exception": false,
     "start_time": "2021-09-05T11:03:28.267427",
     "status": "completed"
    },
    "tags": []
   },
   "outputs": [
    {
     "data": {
      "image/png": "[encoded data removed]",
      "text/plain": [
       "<Figure size 864x360 with 2 Axes>"
      ]
     },
     "metadata": {
      "needs_background": "light"
     },
     "output_type": "display_data"
    }
   ],
   "source": [
    "def accuracy_plot(history):\n",
    "    \n",
    "    fig, ax = plt.subplots(1, 2, figsize=(12,5))\n",
    "    \n",
    "    fig.suptitle('Model Performance with Epochs', fontsize = 16)\n",
    "    # Subplot 1 \n",
    "    ax[0].plot(history.history['accuracy'])\n",
    "    ax[0].plot(history.history['val_accuracy'])\n",
    "    ax[0].set_title('Model Accuracy', fontsize = 14)\n",
    "    ax[0].set_xlabel('Epochs', fontsize = 12)\n",
    "    ax[0].set_ylabel('Accuracy', fontsize = 12)\n",
    "    ax[0].legend(['train', 'validation'], loc='best')\n",
    "    \n",
    "    # Subplot 2\n",
    "    ax[1].plot(history.history['loss'])\n",
    "    ax[1].plot(history.history['val_loss'])\n",
    "    ax[1].set_title('Model Loss', fontsize = 14)\n",
    "    ax[1].set_xlabel('Epochs', fontsize = 12)\n",
    "    ax[1].set_ylabel('Loss', fontsize = 12)\n",
    "    ax[1].legend(['train', 'validation'], loc='best')\n",
    "    \n",
    "    \n",
    "accuracy_plot(history)"
   ]
  },
  {
   "cell_type": "markdown",
   "metadata": {
    "papermill": {
     "duration": 4.918591,
     "end_time": "2021-09-05T11:03:42.653269",
     "exception": false,
     "start_time": "2021-09-05T11:03:37.734678",
     "status": "completed"
    },
    "tags": []
   },
   "source": [
    "## #8.3 Confusion Matrix"
   ]
  },
  {
   "cell_type": "code",
   "execution_count": 36,
   "metadata": {
    "execution": {
     "iopub.execute_input": "2021-09-05T11:03:51.745273Z",
     "iopub.status.busy": "2021-09-05T11:03:51.744512Z",
     "iopub.status.idle": "2021-09-05T11:03:57.596049Z",
     "shell.execute_reply": "2021-09-05T11:03:57.595539Z",
     "shell.execute_reply.started": "2021-09-05T10:27:58.096904Z"
    },
    "papermill": {
     "duration": 10.304989,
     "end_time": "2021-09-05T11:03:57.596185",
     "exception": false,
     "start_time": "2021-09-05T11:03:47.291196",
     "status": "completed"
    },
    "tags": []
   },
   "outputs": [
    {
     "data": {
      "image/png": "[encoded data removed]",
      "text/plain": [
       "<Figure size 864x576 with 2 Axes>"
      ]
     },
     "metadata": {
      "needs_background": "light"
     },
     "output_type": "display_data"
    }
   ],
   "source": [
    "# Declaring function for plotting confusion matrix\n",
    "import seaborn as sns\n",
    "from sklearn.metrics import confusion_matrix\n",
    "\n",
    "def plot_cm(model, test_data, test_labels):\n",
    "    \n",
    "    products = ['Credit Card', 'Credit Reporting', 'Debt Collection', 'Mortgages \\nand Loans', 'Retail Banking']\n",
    "        \n",
    "    # Calculate predictions\n",
    "    pred = model.predict(test_data)\n",
    "    \n",
    "    # Declaring confusion matrix\n",
    "    cm = confusion_matrix(np.argmax(np.array(test_labels),axis=1), np.argmax(pred, axis=1))\n",
    "    \n",
    "    # Heat map labels\n",
    "\n",
    "    group_counts = ['{0:0.0f}'.format(value) for value in cm.flatten()]\n",
    "    group_percentages = ['{0:.2%}'.format(value) for value in cm.flatten()/np.sum(cm)]\n",
    "    \n",
    "    labels = [f\"{v2}\\n{v3}\" for v2, v3 in zip(group_counts, group_percentages)]\n",
    "    labels = np.asarray(labels).reshape(5,5)\n",
    "\n",
    "    # Plotting confusion matrix\n",
    "    plt.figure(figsize=(12,8))\n",
    "    \n",
    "    sns.heatmap(cm, cmap=plt.cm.Blues, annot=labels, annot_kws={\"size\": 15}, fmt = '',\n",
    "                xticklabels = products,\n",
    "                yticklabels = products)\n",
    "    \n",
    "    plt.xticks(fontsize = 12)\n",
    "    plt.yticks(fontsize = 12, rotation = 'horizontal')\n",
    "    plt.title('Confusion Matrix\\n', fontsize=19)\n",
    "    plt.xlabel('Predicted Labels', fontsize=17)\n",
    "    plt.ylabel('Actual Labels', fontsize=17)\n",
    "    \n",
    "plot_cm(model, test_data, test_labels)"
   ]
  },
  {
   "cell_type": "markdown",
   "metadata": {
    "papermill": {
     "duration": 4.700985,
     "end_time": "2021-09-05T11:04:06.792341",
     "exception": false,
     "start_time": "2021-09-05T11:04:02.091356",
     "status": "completed"
    },
    "tags": []
   },
   "source": [
    "Model <b>accuracy</b> is verified with confusion matrix. "
   ]
  }
 ],
 "metadata": {
  "kernelspec": {
   "display_name": "Python 3",
   "language": "python",
   "name": "python3"
  },
  "language_info": {
   "codemirror_mode": {
    "name": "ipython",
    "version": 3
   },
   "file_extension": ".py",
   "mimetype": "text/x-python",
   "name": "python",
   "nbconvert_exporter": "python",
   "pygments_lexer": "ipython3",
   "version": "3.8.5"
  },
  "papermill": {
   "default_parameters": {},
   "duration": 1271.544894,
   "end_time": "2021-09-05T11:04:23.729195",
   "environment_variables": {},
   "exception": null,
   "input_path": "__notebook__.ipynb",
   "output_path": "__notebook__.ipynb",
   "parameters": {},
   "start_time": "2021-09-05T10:43:12.184301",
   "version": "2.3.3"
  }
 },
 "nbformat": 4,
 "nbformat_minor": 5
}
